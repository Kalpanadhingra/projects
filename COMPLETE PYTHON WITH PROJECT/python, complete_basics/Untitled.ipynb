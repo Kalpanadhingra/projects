{
 "cells": [
  {
   "cell_type": "code",
   "execution_count": 1,
   "id": "691dd560",
   "metadata": {},
   "outputs": [],
   "source": [
    "# WAP to print hello"
   ]
  },
  {
   "cell_type": "code",
   "execution_count": 2,
   "id": "8c03779c",
   "metadata": {},
   "outputs": [
    {
     "name": "stdout",
     "output_type": "stream",
     "text": [
      "hello world\n"
     ]
    }
   ],
   "source": [
    "print(\"hello world\")"
   ]
  },
  {
   "cell_type": "code",
   "execution_count": 4,
   "id": "d846ab23",
   "metadata": {},
   "outputs": [],
   "source": [
    "# WAP to add two no."
   ]
  },
  {
   "cell_type": "code",
   "execution_count": 5,
   "id": "b7a4665d",
   "metadata": {},
   "outputs": [],
   "source": [
    "# using + operator"
   ]
  },
  {
   "cell_type": "code",
   "execution_count": 7,
   "id": "db0b26c4",
   "metadata": {},
   "outputs": [
    {
     "name": "stdout",
     "output_type": "stream",
     "text": [
      "sum of  12 and  32 is 44\n"
     ]
    }
   ],
   "source": [
    "a=12\n",
    "b=32\n",
    "sum=a+b\n",
    "print(\"sum of \",a,\"and \",b,\"is\",sum)"
   ]
  },
  {
   "cell_type": "code",
   "execution_count": 10,
   "id": "dbd5c616",
   "metadata": {},
   "outputs": [
    {
     "name": "stdout",
     "output_type": "stream",
     "text": [
      "first no. 2\n",
      "second no.1\n",
      "the sum of 2and 1 is 3.0\n"
     ]
    }
   ],
   "source": [
    "#add two no with user input\n",
    "\n",
    "num1=input(\"first no. \")\n",
    "num2= input(\"second no.\")\n",
    "sum=float(num1)+float(num2)\n",
    "print(\"the sum of {0}and {1} is {2}\" .format(num1,num2,sum))\n"
   ]
  },
  {
   "cell_type": "code",
   "execution_count": 13,
   "id": "0a678eb4",
   "metadata": {},
   "outputs": [
    {
     "name": "stdout",
     "output_type": "stream",
     "text": [
      "sum of 3 and 65 is 68\n"
     ]
    }
   ],
   "source": [
    "# add two no using function\n",
    "\n",
    "def add(a,b):\n",
    "    return a+b\n",
    "\n",
    "num1=3\n",
    "num2=65\n",
    "sum=add(num1,num2)\n",
    "#to print the result\n",
    "print(\"sum of {0} and {1} is {2}\" .format(num1,num2,sum))"
   ]
  },
  {
   "cell_type": "code",
   "execution_count": 17,
   "id": "e695695b",
   "metadata": {},
   "outputs": [
    {
     "name": "stdout",
     "output_type": "stream",
     "text": [
      "sum of 2 and54 is 56\n"
     ]
    }
   ],
   "source": [
    "# using operator module which has add function\n",
    "\n",
    "import operator\n",
    "a=2\n",
    "b=54\n",
    "sum= operator.add(a,b)\n",
    "print(\"sum of {0} and {1} is {2}\" .format(a,b,sum))"
   ]
  },
  {
   "cell_type": "code",
   "execution_count": null,
   "id": "3cc5c2a1",
   "metadata": {},
   "outputs": [],
   "source": [
    "#sum using lambda function\n",
    "\n",
    "add_numbers=lambda x,y: x+y\n",
    "\n",
    "num1=1\n",
    "num2=2\n",
    "\n",
    "sum"
   ]
  }
 ],
 "metadata": {
  "kernelspec": {
   "display_name": "Python 3 (ipykernel)",
   "language": "python",
   "name": "python3"
  },
  "language_info": {
   "codemirror_mode": {
    "name": "ipython",
    "version": 3
   },
   "file_extension": ".py",
   "mimetype": "text/x-python",
   "name": "python",
   "nbconvert_exporter": "python",
   "pygments_lexer": "ipython3",
   "version": "3.11.5"
  }
 },
 "nbformat": 4,
 "nbformat_minor": 5
}
