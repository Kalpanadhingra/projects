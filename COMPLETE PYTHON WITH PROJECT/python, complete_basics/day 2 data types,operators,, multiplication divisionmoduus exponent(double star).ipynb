{
 "cells": [
  {
   "cell_type": "raw",
   "id": "2ddd5515",
   "metadata": {},
   "source": [
    "1) arithmatic operator:\n",
    "addition(+): 5+3\n",
    "substration(-):7-2\n",
    "multiplication(*)\n",
    "division(/)\n",
    "modules(%)\n",
    "exponential(**)\n",
    "    "
   ]
  },
  {
   "cell_type": "raw",
   "id": "f75931c7",
   "metadata": {},
   "source": [
    "2) COMPARISION OPERATOR\n",
    "equal to (==)\n",
    "notequal(!=)\n",
    "greater than(>)\n",
    "less than(<)\n",
    "greater than or equalto(>=)\n",
    "less than or equal to(<=)\n"
   ]
  },
  {
   "cell_type": "raw",
   "id": "f5b8a24a",
   "metadata": {},
   "source": [
    "3) lOGICAl OPERATOR:\n",
    "and: a and b ( true if a and b both are true )\n",
    "or: a or b( true if any one a and b are true)\n",
    "not: not a ( true if a is false and false if a is true)"
   ]
  },
  {
   "cell_type": "raw",
   "id": "4826aa4f",
   "metadata": {},
   "source": [
    "4)Assignment operator:\n",
    "assignment (=)\n",
    "addition(+=)\n",
    "substraction(-=)\n",
    "multiplication(*=)\n",
    "division(/=)\n",
    "modulus(%=)\n",
    "exponentiatian(**=)"
   ]
  },
  {
   "cell_type": "raw",
   "id": "4415f1c5",
   "metadata": {},
   "source": [
    "5) IDENTITY operator:\n",
    "is: a is b (true if a and b are thesame obeject)\n",
    "isnot: a is not b(true if a and b are not the same obeject)"
   ]
  },
  {
   "cell_type": "raw",
   "id": "1305c518",
   "metadata": {},
   "source": [
    "6) MEMBERSHIP OPERATOR:\n",
    "in : x in ist(true if x is a member of the list)\n",
    "notin : x notin list (true if x is not a member of the ist )"
   ]
  },
  {
   "cell_type": "code",
   "execution_count": 11,
   "id": "bb4d69d8",
   "metadata": {},
   "outputs": [
    {
     "name": "stdout",
     "output_type": "stream",
     "text": [
      "False\n",
      "False\n",
      "True\n",
      "False\n",
      "not present\n",
      "False\n"
     ]
    }
   ],
   "source": [
    "a=[\"apple\",\"banana\",\"grapes\",\"chips\"]\n",
    "c=[\"apple\",\"banana\",\"grapes\",\"chips\"]\n",
    "b=[\"apple\",\"grapes\",\"chips\",\"grapes\",\"beetroot\",\"banana\"]\n",
    "print(a in b)\n",
    "print(b in a)\n",
    "print(a not in b)\n",
    "print(a in c)\n",
    "if c in a:\n",
    "    print(\"yes\")\n",
    "else:\n",
    "    print(\"not present\")\n",
    "print(c in a)"
   ]
  },
  {
   "cell_type": "code",
   "execution_count": 13,
   "id": "b4b11581",
   "metadata": {},
   "outputs": [
    {
     "name": "stdout",
     "output_type": "stream",
     "text": [
      "False\n",
      "False\n"
     ]
    }
   ],
   "source": [
    "a=[\"apple\",\"banana\",\"grapes\",\"chips\"]\n",
    "user=[\"apple\",\"banana\",\"grapes\",\"chips\"]\n",
    "print(a in user)\n",
    "print(user in a)"
   ]
  },
  {
   "cell_type": "code",
   "execution_count": 16,
   "id": "05118b90",
   "metadata": {},
   "outputs": [
    {
     "name": "stdout",
     "output_type": "stream",
     "text": [
      "True\n",
      "True\n"
     ]
    }
   ],
   "source": [
    "a=\"charu\"\n",
    "b=\"payal\"\n",
    "c=\"charu\"\n",
    "print(a is not b)\n",
    "print(a is c)"
   ]
  },
  {
   "cell_type": "markdown",
   "id": "732f83a8",
   "metadata": {},
   "source": [
    "# today is our first class"
   ]
  },
  {
   "cell_type": "markdown",
   "id": "cd708d1c",
   "metadata": {},
   "source": [
    "operator"
   ]
  },
  {
   "cell_type": "code",
   "execution_count": null,
   "id": "72bdb875",
   "metadata": {},
   "outputs": [],
   "source": []
  }
 ],
 "metadata": {
  "kernelspec": {
   "display_name": "Python 3 (ipykernel)",
   "language": "python",
   "name": "python3"
  },
  "language_info": {
   "codemirror_mode": {
    "name": "ipython",
    "version": 3
   },
   "file_extension": ".py",
   "mimetype": "text/x-python",
   "name": "python",
   "nbconvert_exporter": "python",
   "pygments_lexer": "ipython3",
   "version": "3.11.5"
  }
 },
 "nbformat": 4,
 "nbformat_minor": 5
}
