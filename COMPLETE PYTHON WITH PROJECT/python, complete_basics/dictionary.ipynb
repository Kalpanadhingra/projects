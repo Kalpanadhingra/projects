{
 "cells": [
  {
   "cell_type": "markdown",
   "id": "e1329bf3",
   "metadata": {},
   "source": [
    "# Dictionary"
   ]
  },
  {
   "cell_type": "markdown",
   "id": "0dd1f4fc",
   "metadata": {},
   "source": [
    "# it is mutable data type . it is a key-value pair"
   ]
  },
  {
   "cell_type": "markdown",
   "id": "635fc00b",
   "metadata": {},
   "source": [
    "### dictionary items are changeble , ordered , and no duplicates are alllowed . items are present in key value pairs."
   ]
  },
  {
   "cell_type": "markdown",
   "id": "2507a055",
   "metadata": {},
   "source": [
    "## as of python version 3.7 dictionaries are ORDERED . In python version 3.6 dictionaries are unodered."
   ]
  },
  {
   "cell_type": "markdown",
   "id": "7a5b1fd8",
   "metadata": {},
   "source": [
    "## every value has a unique key , no duplicates keys are allowed."
   ]
  },
  {
   "cell_type": "code",
   "execution_count": 7,
   "id": "acd98e53",
   "metadata": {},
   "outputs": [
    {
     "name": "stdout",
     "output_type": "stream",
     "text": [
      "{'name': 'kalpana', 'age': 19, 'gender': 'female'}\n",
      "<class 'dict'>\n"
     ]
    }
   ],
   "source": [
    "a={\"name\": \"kalpana\", \"age\": 19,\"gender\": \"female\"}\n",
    "print(a)\n",
    "print(type(a))"
   ]
  },
  {
   "cell_type": "code",
   "execution_count": 11,
   "id": "7a016e47",
   "metadata": {},
   "outputs": [
    {
     "name": "stdout",
     "output_type": "stream",
     "text": [
      "name is kalpana\n"
     ]
    }
   ],
   "source": [
    "print(\"name is\", a[\"name\"])"
   ]
  },
  {
   "cell_type": "markdown",
   "id": "392aa05f",
   "metadata": {},
   "source": [
    "## no duplicate allowed the last declared value is considered"
   ]
  },
  {
   "cell_type": "code",
   "execution_count": 14,
   "id": "0de95702",
   "metadata": {},
   "outputs": [
    {
     "name": "stdout",
     "output_type": "stream",
     "text": [
      "{'name': 'kalpana', 'age': 20, 'gender': 'female'}\n"
     ]
    }
   ],
   "source": [
    "a={\"name\": \"kalpana\", \"age\": 19,\"gender\": \"female\",\n",
    "  \"age\": 20}\n",
    "print(a)"
   ]
  },
  {
   "cell_type": "code",
   "execution_count": 15,
   "id": "2fa58775",
   "metadata": {},
   "outputs": [],
   "source": [
    "#dictionarylength"
   ]
  },
  {
   "cell_type": "code",
   "execution_count": 16,
   "id": "6f18331b",
   "metadata": {},
   "outputs": [
    {
     "name": "stdout",
     "output_type": "stream",
     "text": [
      "4\n"
     ]
    }
   ],
   "source": [
    "a={\"name\": \"kalpana\", \"age\": 19,\"gender\": \"female\",\n",
    "  \"year\": 2004}\n",
    "print(len(a))\n"
   ]
  },
  {
   "cell_type": "code",
   "execution_count": 17,
   "id": "9e4667fd",
   "metadata": {},
   "outputs": [
    {
     "name": "stdout",
     "output_type": "stream",
     "text": [
      "dict_keys(['name', 'age', 'gender', 'year'])\n"
     ]
    }
   ],
   "source": [
    "print(a.keys())"
   ]
  },
  {
   "cell_type": "code",
   "execution_count": 18,
   "id": "2770f1ea",
   "metadata": {},
   "outputs": [
    {
     "name": "stdout",
     "output_type": "stream",
     "text": [
      "dict_values(['kalpana', 19, 'female', 2004])\n"
     ]
    }
   ],
   "source": [
    "print(a.values())"
   ]
  },
  {
   "cell_type": "code",
   "execution_count": 19,
   "id": "cbebc3c6",
   "metadata": {},
   "outputs": [
    {
     "name": "stdout",
     "output_type": "stream",
     "text": [
      "{'name': 'kalpana', 'age': 19, 'gender': 'female', 'year': 2004, 'a': False, 'b': [1, 2, 3, 4, 5], 'c': (1.4, 53, 5.2)}\n"
     ]
    }
   ],
   "source": [
    "a={\"name\": \"kalpana\", \"age\": 19,\"gender\": \"female\",\n",
    "  \"year\": 2004,\n",
    "   \"a\":False, \"b\":[1,2,3,4,5], \"c\": (1.4,53,5.2)}\n",
    "print(a)"
   ]
  },
  {
   "cell_type": "code",
   "execution_count": 24,
   "id": "3c2561cb",
   "metadata": {},
   "outputs": [
    {
     "name": "stdout",
     "output_type": "stream",
     "text": [
      "19\n",
      "kalpana\n"
     ]
    }
   ],
   "source": [
    "a={\"name\": \"kalpana\", \"age\": 19,\"gender\": \"female\",\n",
    "  \"year\": 2004}\n",
    "print(a.get(\"age\"))\n",
    "print(a[\"name\"])\n"
   ]
  },
  {
   "cell_type": "markdown",
   "id": "5ce6269c",
   "metadata": {},
   "source": [
    "# change the value "
   ]
  },
  {
   "cell_type": "code",
   "execution_count": 28,
   "id": "1e7a1946",
   "metadata": {},
   "outputs": [
    {
     "name": "stdout",
     "output_type": "stream",
     "text": [
      "{'name': 'deepanshu', 'age': 19, 'gender': 'male', 'year': 2004}\n"
     ]
    }
   ],
   "source": [
    "a={\"name\": \"kalpana\", \"age\": 19,\"gender\": \"female\",\n",
    "  \"year\": 2004}\n",
    "a[\"name\"]=\"deepanshu\"\n",
    "a[\"gender\"]=\"male\"\n",
    "print(a)"
   ]
  },
  {
   "cell_type": "markdown",
   "id": "ad2981ee",
   "metadata": {},
   "source": [
    "# Add new element"
   ]
  },
  {
   "cell_type": "code",
   "execution_count": 29,
   "id": "36615c91",
   "metadata": {},
   "outputs": [
    {
     "name": "stdout",
     "output_type": "stream",
     "text": [
      "{'name': 'kalpana', 'age': 19, 'gender': 'female', 'year': 2004, 'mail': 'kalpanadhingra@gmail.com'}\n"
     ]
    }
   ],
   "source": [
    "a={\"name\": \"kalpana\", \"age\": 19,\"gender\": \"female\",\n",
    "  \"year\": 2004}\n",
    "a.update({\"mail\": \"kalpanadhingra@gmail.com\"})\n",
    "print(a)"
   ]
  },
  {
   "cell_type": "markdown",
   "id": "d9025d96",
   "metadata": {},
   "source": [
    "# Delete an element"
   ]
  },
  {
   "cell_type": "code",
   "execution_count": 38,
   "id": "29517198",
   "metadata": {},
   "outputs": [
    {
     "name": "stdout",
     "output_type": "stream",
     "text": [
      "{'age': 19, 'gender': 'female', 'year': 2004}\n"
     ]
    }
   ],
   "source": [
    "a={\"name\": \"kalpana\", \"age\": 19,\"gender\": \"female\",\n",
    "  \"year\": 2004}\n",
    "a.pop(\"name\")\n",
    "print(a)"
   ]
  },
  {
   "cell_type": "code",
   "execution_count": 42,
   "id": "80f7877f",
   "metadata": {},
   "outputs": [
    {
     "name": "stdout",
     "output_type": "stream",
     "text": [
      "{'name': 'kalpana', 'gender': 'female', 'year': 2004}\n"
     ]
    }
   ],
   "source": [
    "a={\"name\": \"kalpana\", \"age\": 19,\"gender\": \"female\",\n",
    "  \"year\": 2004}\n",
    "del a[\"age\"]\n",
    "print(a)"
   ]
  },
  {
   "cell_type": "code",
   "execution_count": 43,
   "id": "49b8016b",
   "metadata": {},
   "outputs": [
    {
     "name": "stdout",
     "output_type": "stream",
     "text": [
      "{}\n",
      "<class 'dict'>\n"
     ]
    }
   ],
   "source": [
    "a={\"name\": \"kalpana\", \"age\": 19,\"gender\": \"female\",\n",
    "  \"year\": 2004}\n",
    "a.clear()\n",
    "print(a)\n",
    "print(type(a))"
   ]
  },
  {
   "cell_type": "code",
   "execution_count": 49,
   "id": "0f802dc9",
   "metadata": {},
   "outputs": [
    {
     "name": "stdout",
     "output_type": "stream",
     "text": [
      "{1: 10, 2: 32, 3: 54, 4: 5, 5: 65, 6: 23}\n"
     ]
    }
   ],
   "source": [
    "dict={1:10,2:32}\n",
    "dict2={3:54,4:5}\n",
    "dict3={5:65,6:23}\n",
    "dict4={}\n",
    "for d in (dict,dict2,dict3):dict4.update((d))\n",
    "print(dict4)"
   ]
  },
  {
   "cell_type": "code",
   "execution_count": 54,
   "id": "a6c5630f",
   "metadata": {},
   "outputs": [
    {
     "ename": "SyntaxError",
     "evalue": "invalid syntax (3486954342.py, line 1)",
     "output_type": "error",
     "traceback": [
      "\u001b[1;36m  Cell \u001b[1;32mIn[54], line 1\u001b[1;36m\u001b[0m\n\u001b[1;33m    d=dict{ }\u001b[0m\n\u001b[1;37m          ^\u001b[0m\n\u001b[1;31mSyntaxError\u001b[0m\u001b[1;31m:\u001b[0m invalid syntax\n"
     ]
    }
   ],
   "source": [
    "d=dict{ }\n",
    "for x in range(1,5):\n",
    "    d[x]=x**2\n",
    "print(d)"
   ]
  },
  {
   "cell_type": "code",
   "execution_count": null,
   "id": "7c1f3d31",
   "metadata": {},
   "outputs": [],
   "source": []
  }
 ],
 "metadata": {
  "kernelspec": {
   "display_name": "Python 3 (ipykernel)",
   "language": "python",
   "name": "python3"
  },
  "language_info": {
   "codemirror_mode": {
    "name": "ipython",
    "version": 3
   },
   "file_extension": ".py",
   "mimetype": "text/x-python",
   "name": "python",
   "nbconvert_exporter": "python",
   "pygments_lexer": "ipython3",
   "version": "3.11.5"
  }
 },
 "nbformat": 4,
 "nbformat_minor": 5
}
