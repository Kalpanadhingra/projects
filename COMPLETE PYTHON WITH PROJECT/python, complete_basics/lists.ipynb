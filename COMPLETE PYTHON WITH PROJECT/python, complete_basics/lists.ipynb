{
 "cells": [
  {
   "cell_type": "markdown",
   "id": "6d18f9ee",
   "metadata": {},
   "source": [
    "# list"
   ]
  },
  {
   "cell_type": "markdown",
   "id": "64bda0f6",
   "metadata": {},
   "source": [
    "# creating a list"
   ]
  },
  {
   "cell_type": "code",
   "execution_count": 1,
   "id": "33dc37c3",
   "metadata": {},
   "outputs": [
    {
     "name": "stdout",
     "output_type": "stream",
     "text": [
      "['apple', 'mango', 'banana']\n",
      "<class 'list'>\n"
     ]
    }
   ],
   "source": [
    "A=[\"apple\",\"mango\",\"banana\"]\n",
    "print(A)\n",
    "print(type(A))"
   ]
  },
  {
   "cell_type": "markdown",
   "id": "5f69288c",
   "metadata": {},
   "source": [
    "# list is MUTABlE type "
   ]
  },
  {
   "cell_type": "code",
   "execution_count": 5,
   "id": "79aee5ab",
   "metadata": {},
   "outputs": [
    {
     "name": "stdout",
     "output_type": "stream",
     "text": [
      "['apple', 'mango', 'banana']\n",
      "['apple', 'mango', 'ppineapple']\n"
     ]
    }
   ],
   "source": [
    "A=[\"apple\",\"mango\",\"banana\"]\n",
    "print(A)\n",
    "A[2]=\"ppineapple\"\n",
    "print(A)"
   ]
  },
  {
   "cell_type": "code",
   "execution_count": 8,
   "id": "e39fb4b6",
   "metadata": {},
   "outputs": [
    {
     "name": "stdout",
     "output_type": "stream",
     "text": [
      "54\n",
      "8\n",
      "32\n"
     ]
    }
   ],
   "source": [
    "num=[1,3,54,35,47,69,8,7,32]\n",
    "for i in num:\n",
    "    if i%6==0 or i%2==0:\n",
    "        print(i)"
   ]
  },
  {
   "cell_type": "markdown",
   "id": "efa59349",
   "metadata": {},
   "source": [
    "# list is a collection of different types of data represent using square brackets"
   ]
  },
  {
   "cell_type": "code",
   "execution_count": 19,
   "id": "3d0fc257",
   "metadata": {},
   "outputs": [
    {
     "name": "stdout",
     "output_type": "stream",
     "text": [
      "[1, 65, 87, 43, 654, 'apple', 'yahoo', 2.5]\n",
      " length is :  8\n",
      "[1, 65, 87, 43, 654]\n",
      "65\n",
      "87\n",
      "43\n",
      "654\n",
      "apple\n",
      "yahoo\n"
     ]
    }
   ],
   "source": [
    "D=[1,65,87,43,654,\"apple\",\"yahoo\",2.5]\n",
    "print(D)\n",
    "print(\" length is : \",len(D))\n",
    "print(D[0:5])\n",
    "for i in D[1:7]:\n",
    "    print(i)"
   ]
  },
  {
   "cell_type": "markdown",
   "id": "c4ef9051",
   "metadata": {},
   "source": [
    "# changing the range of list"
   ]
  },
  {
   "cell_type": "code",
   "execution_count": 22,
   "id": "d80e9b19",
   "metadata": {},
   "outputs": [
    {
     "name": "stdout",
     "output_type": "stream",
     "text": [
      "[1, 43, 3.2, 'kalpana', 'deepanshu', 'swati', 'aditya']\n"
     ]
    }
   ],
   "source": [
    "A=[1,43,3.2,\"kalpana\",\"deepanshu\"]\n",
    "A[5:6]=[\"swati\",\"aditya\"]\n",
    "print(A)"
   ]
  },
  {
   "cell_type": "code",
   "execution_count": 24,
   "id": "2280847d",
   "metadata": {},
   "outputs": [
    {
     "name": "stdout",
     "output_type": "stream",
     "text": [
      "['pen', 'paper', 12, 54, 32, 8, 4, 10, [1, 4]]\n"
     ]
    }
   ],
   "source": [
    "S=[\"pen\",\"paper\",12,54,32,8,4]\n",
    "S.append(10)\n",
    "S.append([1,4])\n",
    "print(S)"
   ]
  },
  {
   "cell_type": "code",
   "execution_count": 29,
   "id": "67c8c736",
   "metadata": {},
   "outputs": [
    {
     "name": "stdout",
     "output_type": "stream",
     "text": [
      "['hii', 'hlo', 'hey']\n"
     ]
    }
   ],
   "source": [
    "R=[\"hii\",\"hlo\",\"how\",\"hey\"]\n",
    "R.remove(\"how\")\n",
    "print(R)"
   ]
  },
  {
   "cell_type": "markdown",
   "id": "2010908a",
   "metadata": {},
   "source": [
    "# reverse a list"
   ]
  },
  {
   "cell_type": "code",
   "execution_count": 31,
   "id": "814de341",
   "metadata": {},
   "outputs": [
    {
     "name": "stdout",
     "output_type": "stream",
     "text": [
      "['kalp', 76, 5, 43, 2, 'prachi']\n"
     ]
    }
   ],
   "source": [
    "S=[\"prachi\",2,43,5,76,\"kalp\"]\n",
    "S.reverse()\n",
    "print(S)"
   ]
  },
  {
   "cell_type": "markdown",
   "id": "1f1f95aa",
   "metadata": {},
   "source": [
    "# sum of all elemnts of list"
   ]
  },
  {
   "cell_type": "code",
   "execution_count": 38,
   "id": "578ba382",
   "metadata": {},
   "outputs": [
    {
     "name": "stdout",
     "output_type": "stream",
     "text": [
      "[1, 43, 54, 3, 87, 32, 43, 76, 32]\n",
      "total sum is :  371\n"
     ]
    }
   ],
   "source": [
    "A=[1,43,54,3,87,32,43,76,32]\n",
    "count=0\n",
    "for i in A:\n",
    "    count=count+i\n",
    "print(A)\n",
    "print(\"total sum is : \",count)"
   ]
  },
  {
   "cell_type": "code",
   "execution_count": 45,
   "id": "8241cb55",
   "metadata": {},
   "outputs": [
    {
     "name": "stdout",
     "output_type": "stream",
     "text": [
      "[32, 5, 4, 21, 76, 43, 9, 10]\n",
      "length is : 8\n",
      "sum is : 28\n"
     ]
    }
   ],
   "source": [
    "digits=[32,5,4,21,76,43,9,10]\n",
    "print(digits)\n",
    "print(\"length is :\",len(digits))\n",
    "sum=0\n",
    "for i in range(8):\n",
    "    sum=sum+i\n",
    "    i=i+1\n",
    "print(\"sum is :\",sum)"
   ]
  },
  {
   "cell_type": "code",
   "execution_count": 57,
   "id": "8ca84bd1",
   "metadata": {},
   "outputs": [
    {
     "name": "stdout",
     "output_type": "stream",
     "text": [
      "[32, 2, 43, 56, 43, 9, 10]\n",
      "length is : 7\n",
      "multiplication of elements is : 596413440\n"
     ]
    }
   ],
   "source": [
    "digits=[32,2,43,56,43,9,10]\n",
    "print(digits)\n",
    "print(\"length is :\",len(digits))\n",
    "a=1\n",
    "for i in digits:\n",
    "    a=a*i\n",
    "    i=i+1\n",
    "print(\"multiplication of elements is :\",a)"
   ]
  },
  {
   "cell_type": "code",
   "execution_count": null,
   "id": "16e3398d",
   "metadata": {},
   "outputs": [],
   "source": []
  }
 ],
 "metadata": {
  "kernelspec": {
   "display_name": "Python 3 (ipykernel)",
   "language": "python",
   "name": "python3"
  },
  "language_info": {
   "codemirror_mode": {
    "name": "ipython",
    "version": 3
   },
   "file_extension": ".py",
   "mimetype": "text/x-python",
   "name": "python",
   "nbconvert_exporter": "python",
   "pygments_lexer": "ipython3",
   "version": "3.11.5"
  }
 },
 "nbformat": 4,
 "nbformat_minor": 5
}
