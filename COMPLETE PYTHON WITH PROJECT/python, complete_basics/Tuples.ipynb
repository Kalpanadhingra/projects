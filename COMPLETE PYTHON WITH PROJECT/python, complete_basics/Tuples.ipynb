{
 "cells": [
  {
   "cell_type": "markdown",
   "id": "846a26eb",
   "metadata": {},
   "source": [
    "# Tuples"
   ]
  },
  {
   "cell_type": "markdown",
   "id": "81e0cff2",
   "metadata": {},
   "source": [
    "# Tuples is IMMUTABE datatype represents in round brakets"
   ]
  },
  {
   "cell_type": "markdown",
   "id": "50d5d377",
   "metadata": {},
   "source": [
    "# creating"
   ]
  },
  {
   "cell_type": "code",
   "execution_count": 4,
   "id": "9d6eba4b",
   "metadata": {},
   "outputs": [
    {
     "name": "stdout",
     "output_type": "stream",
     "text": [
      "(1, 3, 4, 2)\n",
      "length : 4\n",
      "<class 'tuple'>\n"
     ]
    }
   ],
   "source": [
    "tuple=(1,3,4,2)\n",
    "print(tuple)\n",
    "print(\"length :\",len(tuple))\n",
    "print(type(tuple))"
   ]
  },
  {
   "cell_type": "code",
   "execution_count": 5,
   "id": "488e2ca0",
   "metadata": {},
   "outputs": [
    {
     "name": "stdout",
     "output_type": "stream",
     "text": [
      "(1, 5, 3, 87, 32, 'a', 2.4, 'abcd', (2+3j))\n"
     ]
    }
   ],
   "source": [
    "tuple=(1,5,3,87,32,\"a\",2.4,\"abcd\",2+3j)\n",
    "print(tuple)"
   ]
  },
  {
   "cell_type": "markdown",
   "id": "bdbf60f2",
   "metadata": {},
   "source": [
    "# empty tuple"
   ]
  },
  {
   "cell_type": "code",
   "execution_count": 6,
   "id": "8872ac73",
   "metadata": {},
   "outputs": [
    {
     "name": "stdout",
     "output_type": "stream",
     "text": [
      "()\n"
     ]
    }
   ],
   "source": [
    "T=()\n",
    "print(T)"
   ]
  },
  {
   "cell_type": "markdown",
   "id": "1a06ebef",
   "metadata": {},
   "source": [
    "# nested tuple"
   ]
  },
  {
   "cell_type": "code",
   "execution_count": 8,
   "id": "13d822d3",
   "metadata": {},
   "outputs": [
    {
     "name": "stdout",
     "output_type": "stream",
     "text": [
      "('cherry', ['bloosms', 'peach'], 'sweetpotato', 'pineapple')\n"
     ]
    }
   ],
   "source": [
    "fruits=(\"cherry\",[\"bloosms\",\"peach\"],\"sweetpotato\",\"pineapple\")\n",
    "print(fruits)\n"
   ]
  },
  {
   "cell_type": "markdown",
   "id": "985e97fd",
   "metadata": {},
   "source": [
    "## creating a tuple with only one variable "
   ]
  },
  {
   "cell_type": "code",
   "execution_count": 11,
   "id": "523ddaa1",
   "metadata": {},
   "outputs": [
    {
     "name": "stdout",
     "output_type": "stream",
     "text": [
      "<class 'int'>\n"
     ]
    }
   ],
   "source": [
    "T=(1)\n",
    "print(type(T))"
   ]
  },
  {
   "cell_type": "code",
   "execution_count": 12,
   "id": "2e8bebf8",
   "metadata": {},
   "outputs": [
    {
     "name": "stdout",
     "output_type": "stream",
     "text": [
      "<class 'tuple'>\n"
     ]
    }
   ],
   "source": [
    "T=(1,)\n",
    "print(type(T))"
   ]
  },
  {
   "cell_type": "markdown",
   "id": "98005bfd",
   "metadata": {},
   "source": [
    "# indexing"
   ]
  },
  {
   "cell_type": "code",
   "execution_count": 24,
   "id": "f144b1b2",
   "metadata": {},
   "outputs": [
    {
     "name": "stdout",
     "output_type": "stream",
     "text": [
      "pencil\n",
      "paper\n",
      "-----------------------------\n",
      "pen\n",
      "paper\n",
      "pencil\n"
     ]
    }
   ],
   "source": [
    "stationary=(\"pen\",\"paper\",\"pencil\")\n",
    "print(stationary[2])\n",
    "print(stationary[-2])\n",
    "print(\"-----------------------------\")\n",
    "for i in stationary:\n",
    "    print(i)"
   ]
  },
  {
   "cell_type": "markdown",
   "id": "da7fa5d3",
   "metadata": {},
   "source": [
    "# slicing"
   ]
  },
  {
   "cell_type": "code",
   "execution_count": 27,
   "id": "8c3b87a8",
   "metadata": {},
   "outputs": [
    {
     "name": "stdout",
     "output_type": "stream",
     "text": [
      "(1, 54, 3, 2, 7)\n",
      "(1,)\n"
     ]
    }
   ],
   "source": [
    "A=(1,54,3,2,7,43,87,2,10)\n",
    "print(A[0:5])\n",
    "print(A[0:1])"
   ]
  },
  {
   "cell_type": "markdown",
   "id": "11363b57",
   "metadata": {},
   "source": [
    "# reverse"
   ]
  },
  {
   "cell_type": "code",
   "execution_count": 29,
   "id": "b99f81ad",
   "metadata": {},
   "outputs": [
    {
     "name": "stdout",
     "output_type": "stream",
     "text": [
      "(0, 5, 11, 21, 6, 4, 23)\n"
     ]
    }
   ],
   "source": [
    "a=(23,4,6,21,11,5,0)\n",
    "print(a[::-1])"
   ]
  },
  {
   "cell_type": "markdown",
   "id": "ed6e150d",
   "metadata": {},
   "source": [
    "# concatenate two tuple"
   ]
  },
  {
   "cell_type": "code",
   "execution_count": 30,
   "id": "bc120805",
   "metadata": {},
   "outputs": [
    {
     "name": "stdout",
     "output_type": "stream",
     "text": [
      "(23, 1, 3, 6, 74, 'pen', 'paper', 'IAS')\n"
     ]
    }
   ],
   "source": [
    "tuple=(23,1,3,6,74)\n",
    "tuple1=(\"pen\",\"paper\",\"IAS\")\n",
    "tuple2=tuple+tuple1\n",
    "print(tuple2)"
   ]
  },
  {
   "cell_type": "markdown",
   "id": "e2576866",
   "metadata": {},
   "source": [
    "# multiply tuple"
   ]
  },
  {
   "cell_type": "code",
   "execution_count": 32,
   "id": "cde9c422",
   "metadata": {},
   "outputs": [
    {
     "name": "stdout",
     "output_type": "stream",
     "text": [
      "(1, 4, 3, [4], 1, 4, 3, [4], 1, 4, 3, [4])\n"
     ]
    }
   ],
   "source": [
    "T=(1,4,3,[4])\n",
    "print(T*3)"
   ]
  },
  {
   "cell_type": "code",
   "execution_count": 48,
   "id": "1f0a57d2",
   "metadata": {},
   "outputs": [
    {
     "name": "stdout",
     "output_type": "stream",
     "text": [
      "(4, 6, [2], 9, 4, 6, [2], 9)\n",
      "(4, 6, [2], 9, 4, 6, [2], 9)\n",
      "(4, 6, [2], 9, 4, 6, [2], 9)\n",
      "(4, 6, [2], 9, 4, 6, [2], 9)\n"
     ]
    }
   ],
   "source": [
    "t=(4,6,[2],9)\n",
    "for i in t:\n",
    "    print(t*2)"
   ]
  },
  {
   "cell_type": "markdown",
   "id": "999b85d1",
   "metadata": {},
   "source": [
    "# user define tuple"
   ]
  },
  {
   "cell_type": "code",
   "execution_count": 58,
   "id": "9cf3091d",
   "metadata": {},
   "outputs": [
    {
     "name": "stdout",
     "output_type": "stream",
     "text": [
      "enter the values:4\n",
      "(4,)\n",
      "````````````````````````\n",
      "enter the values:3\n",
      "(4, 3)\n",
      "````````````````````````\n",
      "enter the values:54\n",
      "(4, 3, 54)\n",
      "````````````````````````\n",
      "enter the values:7\n",
      "(4, 3, 54, 7)\n",
      "````````````````````````\n",
      "enter the values:65\n",
      "(4, 3, 54, 7, 65)\n",
      "````````````````````````\n",
      "enter the values:8\n",
      "(4, 3, 54, 7, 65, 8)\n",
      "````````````````````````\n",
      "\n",
      "The tuple is:  (4, 3, 54, 7, 65, 8)\n"
     ]
    }
   ],
   "source": [
    "T=()\n",
    "i=0\n",
    "while i<=5:\n",
    "    num= int(input(\"enter the values:\"))\n",
    "    T=T+(num,)\n",
    "    i=i+1\n",
    "    print(T)\n",
    "    print(\"````````````````````````\")\n",
    "print()\n",
    "print(\"The tuple is: \",T)"
   ]
  },
  {
   "cell_type": "code",
   "execution_count": null,
   "id": "9c550bb5",
   "metadata": {},
   "outputs": [],
   "source": []
  },
  {
   "cell_type": "code",
   "execution_count": null,
   "id": "e3e4b833",
   "metadata": {},
   "outputs": [],
   "source": []
  }
 ],
 "metadata": {
  "kernelspec": {
   "display_name": "Python 3 (ipykernel)",
   "language": "python",
   "name": "python3"
  },
  "language_info": {
   "codemirror_mode": {
    "name": "ipython",
    "version": 3
   },
   "file_extension": ".py",
   "mimetype": "text/x-python",
   "name": "python",
   "nbconvert_exporter": "python",
   "pygments_lexer": "ipython3",
   "version": "3.11.5"
  }
 },
 "nbformat": 4,
 "nbformat_minor": 5
}
