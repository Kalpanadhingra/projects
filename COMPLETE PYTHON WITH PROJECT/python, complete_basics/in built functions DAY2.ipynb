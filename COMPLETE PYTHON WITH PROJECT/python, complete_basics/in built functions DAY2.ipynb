{
 "cells": [
  {
   "cell_type": "markdown",
   "id": "da7e1ec7",
   "metadata": {},
   "source": [
    "# In built functions"
   ]
  },
  {
   "cell_type": "markdown",
   "id": "994689b9",
   "metadata": {},
   "source": [
    "# abs()\n",
    "print()\n",
    "bin()\n",
    "bytes()\n",
    "complex()\n",
    "chr()\n",
    "int()\n",
    "input()\n",
    "float()\n"
   ]
  },
  {
   "cell_type": "code",
   "execution_count": 1,
   "id": "69f68b84",
   "metadata": {},
   "outputs": [
    {
     "name": "stdout",
     "output_type": "stream",
     "text": [
      "7.5\n"
     ]
    }
   ],
   "source": [
    "x=-7.5\n",
    "print(abs(x))"
   ]
  },
  {
   "cell_type": "code",
   "execution_count": 2,
   "id": "a3bfd754",
   "metadata": {},
   "outputs": [
    {
     "name": "stdout",
     "output_type": "stream",
     "text": [
      "5\n"
     ]
    }
   ],
   "source": [
    "y=5\n",
    "print(abs(y))"
   ]
  },
  {
   "cell_type": "code",
   "execution_count": 3,
   "id": "fe27999e",
   "metadata": {},
   "outputs": [
    {
     "name": "stdout",
     "output_type": "stream",
     "text": [
      "4\n"
     ]
    }
   ],
   "source": [
    "x=-4\n",
    "print(abs(x))"
   ]
  },
  {
   "cell_type": "markdown",
   "id": "83ff0368",
   "metadata": {},
   "source": [
    "# bin()"
   ]
  },
  {
   "cell_type": "code",
   "execution_count": 11,
   "id": "43f100b1",
   "metadata": {},
   "outputs": [
    {
     "name": "stdout",
     "output_type": "stream",
     "text": [
      "0b10\n"
     ]
    }
   ],
   "source": [
    "x=2\n",
    "print(bin(x))"
   ]
  },
  {
   "cell_type": "code",
   "execution_count": 9,
   "id": "c426f467",
   "metadata": {},
   "outputs": [
    {
     "name": "stdout",
     "output_type": "stream",
     "text": [
      "0b110110\n",
      "0b10111\n"
     ]
    }
   ],
   "source": [
    "y,x=23,54\n",
    "print(bin(x))\n",
    "print(bin(y))"
   ]
  },
  {
   "cell_type": "markdown",
   "id": "4f7e6387",
   "metadata": {},
   "source": [
    "# int()"
   ]
  },
  {
   "cell_type": "code",
   "execution_count": 6,
   "id": "9f51a669",
   "metadata": {},
   "outputs": [
    {
     "name": "stdout",
     "output_type": "stream",
     "text": [
      "<class 'int'>\n"
     ]
    }
   ],
   "source": [
    "x=78\n",
    "print(type(x))"
   ]
  },
  {
   "cell_type": "code",
   "execution_count": 14,
   "id": "2bedc07a",
   "metadata": {},
   "outputs": [
    {
     "name": "stdout",
     "output_type": "stream",
     "text": [
      "enter value34\n",
      "34\n",
      "<class 'int'>\n"
     ]
    }
   ],
   "source": [
    "x= int(input(\"enter value\"))\n",
    "print(x)\n",
    "print(type(x))"
   ]
  },
  {
   "cell_type": "markdown",
   "id": "8c0d8372",
   "metadata": {},
   "source": [
    "# input()"
   ]
  },
  {
   "cell_type": "markdown",
   "id": "7ea00e66",
   "metadata": {},
   "source": [
    "used for user input"
   ]
  },
  {
   "cell_type": "code",
   "execution_count": 8,
   "id": "fd60d1af",
   "metadata": {},
   "outputs": [
    {
     "name": "stdout",
     "output_type": "stream",
     "text": [
      "enter the namekalpana\n",
      "kalpana\n",
      "<class 'str'>\n"
     ]
    }
   ],
   "source": [
    "x=input(\"enter the name\")\n",
    "print(x)\n",
    "print(type(x))"
   ]
  },
  {
   "cell_type": "code",
   "execution_count": 10,
   "id": "5e721add",
   "metadata": {},
   "outputs": [
    {
     "name": "stdout",
     "output_type": "stream",
     "text": [
      "enter the name: kalpana\n",
      "the name is:  kalpana\n",
      "<class 'str'>\n"
     ]
    }
   ],
   "source": [
    "x=input(\"enter the name: \")\n",
    "print(\"the name is: \" ,x)\n",
    "print(type(x))"
   ]
  },
  {
   "cell_type": "markdown",
   "id": "69bafc07",
   "metadata": {},
   "source": [
    "# float()"
   ]
  },
  {
   "cell_type": "code",
   "execution_count": 11,
   "id": "0a03c82c",
   "metadata": {},
   "outputs": [
    {
     "name": "stdout",
     "output_type": "stream",
     "text": [
      "32.0\n"
     ]
    }
   ],
   "source": [
    "x=32\n",
    "print(float(x))"
   ]
  },
  {
   "cell_type": "code",
   "execution_count": 12,
   "id": "11cf610f",
   "metadata": {},
   "outputs": [
    {
     "name": "stdout",
     "output_type": "stream",
     "text": [
      "783938.0\n"
     ]
    }
   ],
   "source": [
    "name=783938\n",
    "print(float(name))"
   ]
  },
  {
   "cell_type": "code",
   "execution_count": 15,
   "id": "ad1c1583",
   "metadata": {},
   "outputs": [
    {
     "name": "stdout",
     "output_type": "stream",
     "text": [
      "9.0406438472\n"
     ]
    }
   ],
   "source": [
    "y=9.0406438472\n",
    "print((float(y)))"
   ]
  },
  {
   "cell_type": "markdown",
   "id": "d6a2a735",
   "metadata": {},
   "source": [
    "# complex()"
   ]
  },
  {
   "cell_type": "code",
   "execution_count": 6,
   "id": "938e7c12",
   "metadata": {},
   "outputs": [
    {
     "name": "stdout",
     "output_type": "stream",
     "text": [
      "enter first number: 5\n",
      "enter second number:6\n",
      "5 6\n",
      "(5+6j)\n",
      "5 6\n"
     ]
    }
   ],
   "source": [
    "w=int(input(\"enter first number: \"))\n",
    "e=int(input(\"enter second number:\"))\n",
    "print(w,e)\n",
    "print(complex(w,e))\n",
    "print(w,e)\n"
   ]
  },
  {
   "cell_type": "code",
   "execution_count": 18,
   "id": "9a6e1a7f",
   "metadata": {},
   "outputs": [
    {
     "name": "stdout",
     "output_type": "stream",
     "text": [
      "enter first number: 32\n",
      "enter second number:54\n",
      "32 54\n",
      "(32+54j)\n",
      "32 54\n"
     ]
    }
   ],
   "source": [
    "w=int(input(\"enter first number: \"))\n",
    "e=int(input(\"enter second number:\"))\n",
    "print(w,e)\n",
    "print(complex(w,e))\n",
    "print(w,e)"
   ]
  },
  {
   "cell_type": "code",
   "execution_count": 27,
   "id": "8722843f",
   "metadata": {},
   "outputs": [
    {
     "name": "stdout",
     "output_type": "stream",
     "text": [
      "enter first number: 4\n",
      "enter second number:5\n",
      "4 5\n",
      "compex of w, e is:\t (4+5j)\n",
      "\n",
      "compex of w, e is:\n",
      " (4+5j)\n",
      "4 5\n"
     ]
    }
   ],
   "source": [
    "w=int(input(\"enter first number: \"))\n",
    "e=int(input(\"enter second number:\"))\n",
    "print(w,e)\n",
    "y=complex(w,e)\n",
    "print(\"compex of w, e is:\\t\",y)\n",
    "print()\n",
    "print(\"compex of w, e is:\\n\",y)\n",
    "print(w,e)"
   ]
  },
  {
   "cell_type": "markdown",
   "id": "63895c60",
   "metadata": {},
   "source": [
    "# bytes()"
   ]
  },
  {
   "cell_type": "code",
   "execution_count": 16,
   "id": "0a7874fa",
   "metadata": {},
   "outputs": [
    {
     "name": "stdout",
     "output_type": "stream",
     "text": [
      "b'\\x00\\x00\\x00\\x00\\x00\\x00\\x00\\x00\\x00\\x00\\x00\\x00\\x00\\x00\\x00'\n",
      "0b1111\n",
      "0o1554\n",
      "0x2df8bf8\n"
     ]
    }
   ],
   "source": [
    "x=15\n",
    "print(bytes(x))  #bytes\n",
    "print(bin(x))  \n",
    "# binary\n",
    "\n",
    "print(oct(876))         #octal\n",
    "\n",
    "print(hex(48204792))        #hexadecimal "
   ]
  },
  {
   "cell_type": "markdown",
   "id": "574f5b86",
   "metadata": {},
   "source": [
    "# chr()"
   ]
  },
  {
   "cell_type": "code",
   "execution_count": 69,
   "id": "91e5a009",
   "metadata": {},
   "outputs": [
    {
     "name": "stdout",
     "output_type": "stream",
     "text": [
      "A\n",
      "Z\n",
      "a\n",
      "z\n"
     ]
    }
   ],
   "source": [
    "x=65\n",
    "y=90\n",
    "print(chr(x))\n",
    "print(chr(y))\n",
    "w=97\n",
    "z=122\n",
    "print(chr(w))\n",
    "print(chr(z))"
   ]
  },
  {
   "cell_type": "markdown",
   "id": "be1163f2",
   "metadata": {},
   "source": [
    "## range of capital Alphabets is (67 to 90) , range of small Aphabets is (97 to 122)"
   ]
  },
  {
   "cell_type": "code",
   "execution_count": null,
   "id": "848237fb",
   "metadata": {},
   "outputs": [],
   "source": []
  }
 ],
 "metadata": {
  "kernelspec": {
   "display_name": "Python 3 (ipykernel)",
   "language": "python",
   "name": "python3"
  },
  "language_info": {
   "codemirror_mode": {
    "name": "ipython",
    "version": 3
   },
   "file_extension": ".py",
   "mimetype": "text/x-python",
   "name": "python",
   "nbconvert_exporter": "python",
   "pygments_lexer": "ipython3",
   "version": "3.11.5"
  }
 },
 "nbformat": 4,
 "nbformat_minor": 5
}
