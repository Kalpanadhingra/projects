{
 "cells": [
  {
   "cell_type": "markdown",
   "id": "21332c79",
   "metadata": {},
   "source": [
    "# user defined functions"
   ]
  },
  {
   "cell_type": "code",
   "execution_count": 3,
   "id": "41996951",
   "metadata": {},
   "outputs": [],
   "source": [
    "def sum():\n",
    "    s=a+b\n",
    "    print(\"the sum is:\", s)\n"
   ]
  },
  {
   "cell_type": "code",
   "execution_count": 7,
   "id": "a9da6dba",
   "metadata": {},
   "outputs": [
    {
     "name": "stdout",
     "output_type": "stream",
     "text": [
      "enter the first value54\n",
      "enter second value76\n",
      "the sum is: 130\n"
     ]
    }
   ],
   "source": [
    "a=int(input(\"enter the first value\"))\n",
    "b=int(input(\"enter second value\"))\n",
    "sum()"
   ]
  },
  {
   "cell_type": "code",
   "execution_count": 10,
   "id": "8da13181",
   "metadata": {},
   "outputs": [],
   "source": [
    "def swap(A,B):\n",
    "    X=A\n",
    "    A=B\n",
    "    B=X\n",
    "    print(\"c is:\",A,\"d is \",B)"
   ]
  },
  {
   "cell_type": "code",
   "execution_count": 11,
   "id": "c9731c97",
   "metadata": {},
   "outputs": [
    {
     "name": "stdout",
     "output_type": "stream",
     "text": [
      "enter value: 4\n",
      "enter value: 5\n",
      "C is:  4\n",
      "D is,  5\n",
      "c is: 5 d is  4\n"
     ]
    }
   ],
   "source": [
    "C= int(input(\"enter value: \"))\n",
    "D= int(input(\"enter value: \"))\n",
    "print(\"C is: \",C)\n",
    "print(\"D is, \",D)\n",
    "swap(C,D)\n",
    "#print(\"C is: \",C)\n",
    "#print(\"D is, \",D)"
   ]
  },
  {
   "cell_type": "code",
   "execution_count": 22,
   "id": "fddb5131",
   "metadata": {},
   "outputs": [],
   "source": [
    "def write(n):\n",
    "    print(n)\n",
    "    for x in (n):\n",
    "        print(x)"
   ]
  },
  {
   "cell_type": "code",
   "execution_count": 23,
   "id": "08764b39",
   "metadata": {},
   "outputs": [
    {
     "name": "stdout",
     "output_type": "stream",
     "text": [
      "deepanshu\n",
      "d\n",
      "e\n",
      "e\n",
      "p\n",
      "a\n",
      "n\n",
      "s\n",
      "h\n",
      "u\n"
     ]
    }
   ],
   "source": [
    "i= \"deepanshu\"\n",
    "write(i)"
   ]
  },
  {
   "cell_type": "code",
   "execution_count": null,
   "id": "faacba0c",
   "metadata": {},
   "outputs": [],
   "source": []
  }
 ],
 "metadata": {
  "kernelspec": {
   "display_name": "Python 3 (ipykernel)",
   "language": "python",
   "name": "python3"
  },
  "language_info": {
   "codemirror_mode": {
    "name": "ipython",
    "version": 3
   },
   "file_extension": ".py",
   "mimetype": "text/x-python",
   "name": "python",
   "nbconvert_exporter": "python",
   "pygments_lexer": "ipython3",
   "version": "3.11.5"
  }
 },
 "nbformat": 4,
 "nbformat_minor": 5
}
