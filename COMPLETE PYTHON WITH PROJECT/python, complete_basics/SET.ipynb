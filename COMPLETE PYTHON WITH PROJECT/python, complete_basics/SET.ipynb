{
 "cells": [
  {
   "cell_type": "markdown",
   "id": "aa81f061",
   "metadata": {},
   "source": [
    "# SET IN PYTHON"
   ]
  },
  {
   "cell_type": "markdown",
   "id": "e45cd245",
   "metadata": {},
   "source": [
    "# Set is a collection of elements . It is unordered, unchangeble, un-indexed and duplicates are not allowed."
   ]
  },
  {
   "cell_type": "code",
   "execution_count": 2,
   "id": "72e5b0c6",
   "metadata": {},
   "outputs": [
    {
     "name": "stdout",
     "output_type": "stream",
     "text": [
      "{'apple', 'mango', 2, 1}\n",
      "<class 'set'>\n"
     ]
    }
   ],
   "source": [
    "a={\"apple\",\"mango\",2,1}\n",
    "print(a)\n",
    "print(type(a))"
   ]
  },
  {
   "cell_type": "code",
   "execution_count": 3,
   "id": "f7460d2c",
   "metadata": {},
   "outputs": [
    {
     "ename": "TypeError",
     "evalue": "'set' object is not subscriptable",
     "output_type": "error",
     "traceback": [
      "\u001b[1;31m---------------------------------------------------------------------------\u001b[0m",
      "\u001b[1;31mTypeError\u001b[0m                                 Traceback (most recent call last)",
      "Cell \u001b[1;32mIn[3], line 1\u001b[0m\n\u001b[1;32m----> 1\u001b[0m \u001b[38;5;28mprint\u001b[39m(a[\u001b[38;5;241m0\u001b[39m])\n",
      "\u001b[1;31mTypeError\u001b[0m: 'set' object is not subscriptable"
     ]
    }
   ],
   "source": [
    "print(a[0])"
   ]
  },
  {
   "cell_type": "code",
   "execution_count": 4,
   "id": "034d766a",
   "metadata": {},
   "outputs": [
    {
     "name": "stdout",
     "output_type": "stream",
     "text": [
      "{'shyam', 'ram', 'radha'}\n"
     ]
    }
   ],
   "source": [
    "name={\"ram\",\"ram\",\"radha\",\"shyam\",\"radha\"}\n",
    "print(name)"
   ]
  },
  {
   "cell_type": "code",
   "execution_count": 5,
   "id": "4ea32eb4",
   "metadata": {},
   "outputs": [
    {
     "name": "stdout",
     "output_type": "stream",
     "text": [
      "{1, 2, 3, 'hi'}\n"
     ]
    }
   ],
   "source": [
    "#consider true or 1 as same value\n",
    "a={\"hi\",1,3,2,True}\n",
    "print(a)"
   ]
  },
  {
   "cell_type": "code",
   "execution_count": 9,
   "id": "cfc80337",
   "metadata": {},
   "outputs": [
    {
     "name": "stdout",
     "output_type": "stream",
     "text": [
      "{32, 'hii', 2, 5, 'hlo'}\n",
      "5\n"
     ]
    }
   ],
   "source": [
    "#length of set\n",
    "a={\"hlo\",\"hii\",2,5,\"hii\",32}\n",
    "print(a)\n",
    "print(len(a))"
   ]
  },
  {
   "cell_type": "markdown",
   "id": "4cbdf6a5",
   "metadata": {},
   "source": [
    "# mutable means hashable ,,,,,immutable means unhashable"
   ]
  },
  {
   "cell_type": "code",
   "execution_count": 10,
   "id": "c502c8a3",
   "metadata": {},
   "outputs": [
    {
     "ename": "TypeError",
     "evalue": "unhashable type: 'list'",
     "output_type": "error",
     "traceback": [
      "\u001b[1;31m---------------------------------------------------------------------------\u001b[0m",
      "\u001b[1;31mTypeError\u001b[0m                                 Traceback (most recent call last)",
      "Cell \u001b[1;32mIn[10], line 1\u001b[0m\n\u001b[1;32m----> 1\u001b[0m a\u001b[38;5;241m=\u001b[39m{[\u001b[38;5;241m1\u001b[39m,\u001b[38;5;241m4\u001b[39m,\u001b[38;5;241m3\u001b[39m],\u001b[38;5;124m\"\u001b[39m\u001b[38;5;124mhi\u001b[39m\u001b[38;5;124m\"\u001b[39m}\n\u001b[0;32m      2\u001b[0m \u001b[38;5;28mprint\u001b[39m(a)\n",
      "\u001b[1;31mTypeError\u001b[0m: unhashable type: 'list'"
     ]
    }
   ],
   "source": [
    "a={[1,4,3],\"hi\"}\n",
    "print(a)"
   ]
  },
  {
   "cell_type": "code",
   "execution_count": 13,
   "id": "d65b1f39",
   "metadata": {},
   "outputs": [
    {
     "name": "stdout",
     "output_type": "stream",
     "text": [
      "{(1, 5, 4, 3.5), 'hlo'}\n"
     ]
    }
   ],
   "source": [
    "a={(1,5,4,3.5),\"hlo\"}\n",
    "print(a)\n",
    "\n",
    "#due to tuple is hashable"
   ]
  },
  {
   "cell_type": "code",
   "execution_count": 14,
   "id": "265894ef",
   "metadata": {},
   "outputs": [
    {
     "ename": "TypeError",
     "evalue": "unhashable type: 'dict'",
     "output_type": "error",
     "traceback": [
      "\u001b[1;31m---------------------------------------------------------------------------\u001b[0m",
      "\u001b[1;31mTypeError\u001b[0m                                 Traceback (most recent call last)",
      "Cell \u001b[1;32mIn[14], line 1\u001b[0m\n\u001b[1;32m----> 1\u001b[0m x\u001b[38;5;241m=\u001b[39m{{\u001b[38;5;124m\"\u001b[39m\u001b[38;5;124ma\u001b[39m\u001b[38;5;124m\"\u001b[39m:\u001b[38;5;124m\"\u001b[39m\u001b[38;5;124mkalpana\u001b[39m\u001b[38;5;124m\"\u001b[39m}}\n\u001b[0;32m      2\u001b[0m \u001b[38;5;28mprint\u001b[39m(x)\n",
      "\u001b[1;31mTypeError\u001b[0m: unhashable type: 'dict'"
     ]
    }
   ],
   "source": [
    "x={{\"a\":\"kalpana\"}}\n",
    "print(x)"
   ]
  },
  {
   "cell_type": "markdown",
   "id": "1b62c148",
   "metadata": {},
   "source": [
    "# access items in set"
   ]
  },
  {
   "cell_type": "code",
   "execution_count": 16,
   "id": "829e5b0f",
   "metadata": {},
   "outputs": [
    {
     "name": "stdout",
     "output_type": "stream",
     "text": [
      "1\n",
      "3\n",
      "4\n",
      "76\n"
     ]
    }
   ],
   "source": [
    "x={1,4,3,76}\n",
    "for i in x:\n",
    "    print(i)"
   ]
  },
  {
   "cell_type": "markdown",
   "id": "53b3d181",
   "metadata": {},
   "source": [
    "# check if item is present in set or not"
   ]
  },
  {
   "cell_type": "code",
   "execution_count": 18,
   "id": "62816277",
   "metadata": {},
   "outputs": [
    {
     "name": "stdout",
     "output_type": "stream",
     "text": [
      "True\n",
      "False\n"
     ]
    }
   ],
   "source": [
    "a={2,5,\"hlo\"}\n",
    "print(\"hlo\" in a)\n",
    "print(1 in a)"
   ]
  },
  {
   "cell_type": "markdown",
   "id": "2e6291eb",
   "metadata": {},
   "source": [
    "# creating empty set "
   ]
  },
  {
   "cell_type": "code",
   "execution_count": 19,
   "id": "9ada091a",
   "metadata": {},
   "outputs": [
    {
     "name": "stdout",
     "output_type": "stream",
     "text": [
      "set()\n",
      "<class 'set'>\n"
     ]
    }
   ],
   "source": [
    "empty = set()\n",
    "print(empty)\n",
    "print(type(empty))"
   ]
  },
  {
   "cell_type": "code",
   "execution_count": 20,
   "id": "bb8ca000",
   "metadata": {},
   "outputs": [
    {
     "name": "stdout",
     "output_type": "stream",
     "text": [
      "<class 'dict'>\n"
     ]
    }
   ],
   "source": [
    "set={}\n",
    "print(type(set))"
   ]
  },
  {
   "cell_type": "markdown",
   "id": "020dea3e",
   "metadata": {},
   "source": [
    "# add element in set"
   ]
  },
  {
   "cell_type": "code",
   "execution_count": 22,
   "id": "55ceff4a",
   "metadata": {},
   "outputs": [
    {
     "name": "stdout",
     "output_type": "stream",
     "text": [
      "{65, 2, 100, 'hee', 54}\n"
     ]
    }
   ],
   "source": [
    "a={2,54,65,\"hee\"}\n",
    "a.add(100)\n",
    "print(a)"
   ]
  },
  {
   "cell_type": "code",
   "execution_count": 25,
   "id": "0d3d90e6",
   "metadata": {},
   "outputs": [
    {
     "name": "stdout",
     "output_type": "stream",
     "text": [
      "{1, 2, 3, 4, 'anayst', 76, 'analyst', 'python', 'data'}\n",
      "{1, 2, 3, 4, 'anayst', 76, 'analyst', 'python', 'data'}\n"
     ]
    }
   ],
   "source": [
    "s={1,4,3,6,5}\n",
    "y={4,2,\"data\",\"python\",\"analyst\"}\n",
    "x.update(y)\n",
    "print(x)\n",
    "y.update(x)\n",
    "print(y)"
   ]
  },
  {
   "cell_type": "code",
   "execution_count": 26,
   "id": "29940fd1",
   "metadata": {},
   "outputs": [
    {
     "name": "stdout",
     "output_type": "stream",
     "text": [
      "{'is', 'data', 'important', 'very'}\n"
     ]
    }
   ],
   "source": [
    "a={\"data\",\"a\",\"is\",\"very\",\"important\"}\n",
    "a.remove(\"a\")\n",
    "print(a)"
   ]
  },
  {
   "cell_type": "code",
   "execution_count": 27,
   "id": "ddefdae2",
   "metadata": {},
   "outputs": [
    {
     "name": "stdout",
     "output_type": "stream",
     "text": [
      "{'data', 'important', 'very'}\n"
     ]
    }
   ],
   "source": [
    "a.pop()\n",
    "print(a)"
   ]
  },
  {
   "cell_type": "code",
   "execution_count": 28,
   "id": "6d2b8e17",
   "metadata": {},
   "outputs": [
    {
     "name": "stdout",
     "output_type": "stream",
     "text": [
      "set()\n"
     ]
    }
   ],
   "source": [
    "a.clear()\n",
    "print(a)"
   ]
  },
  {
   "cell_type": "markdown",
   "id": "a099203f",
   "metadata": {},
   "source": [
    "# join two set using union"
   ]
  },
  {
   "cell_type": "code",
   "execution_count": 31,
   "id": "81ed7796",
   "metadata": {},
   "outputs": [
    {
     "name": "stdout",
     "output_type": "stream",
     "text": [
      "{'beta', 'alpha', 'are', 'gamma', 'functions', 'the'}\n"
     ]
    }
   ],
   "source": [
    "w={\"alpha\",\"beta\",\"gamma\"}\n",
    "z={\"are\",\"the\",\"functions\"}\n",
    "print(w.union(z))"
   ]
  },
  {
   "cell_type": "markdown",
   "id": "10a9a2d1",
   "metadata": {},
   "source": [
    "# min and max values"
   ]
  },
  {
   "cell_type": "code",
   "execution_count": 35,
   "id": "c5039ab7",
   "metadata": {},
   "outputs": [
    {
     "name": "stdout",
     "output_type": "stream",
     "text": [
      "2\n",
      "english\n",
      "65\n",
      "telugu\n"
     ]
    }
   ],
   "source": [
    "lang={\"hindi\",\"english\",\"telugu\",\"french\"}\n",
    "a={2,54,65,23,8}\n",
    "print(min(a))\n",
    "print(min(lang))\n",
    "print(max(a))\n",
    "print(max(lang))"
   ]
  },
  {
   "cell_type": "code",
   "execution_count": 36,
   "id": "5deaa274",
   "metadata": {},
   "outputs": [
    {
     "name": "stdout",
     "output_type": "stream",
     "text": [
      "english\n"
     ]
    }
   ],
   "source": [
    "print(min(lang))"
   ]
  },
  {
   "cell_type": "markdown",
   "id": "2751cf82",
   "metadata": {},
   "source": [
    "# return common element of two sets"
   ]
  },
  {
   "cell_type": "code",
   "execution_count": 40,
   "id": "f41eb3f0",
   "metadata": {},
   "outputs": [
    {
     "name": "stdout",
     "output_type": "stream",
     "text": [
      "{'hii', 2, 54}\n"
     ]
    }
   ],
   "source": [
    "a={2,54,65,\"hii\",\"hlo\"}\n",
    "e={\"hii\",45,2,54}\n",
    "x=a.intersection(e)\n",
    "print(x)"
   ]
  },
  {
   "cell_type": "code",
   "execution_count": null,
   "id": "6818522b",
   "metadata": {},
   "outputs": [],
   "source": []
  }
 ],
 "metadata": {
  "kernelspec": {
   "display_name": "Python 3 (ipykernel)",
   "language": "python",
   "name": "python3"
  },
  "language_info": {
   "codemirror_mode": {
    "name": "ipython",
    "version": 3
   },
   "file_extension": ".py",
   "mimetype": "text/x-python",
   "name": "python",
   "nbconvert_exporter": "python",
   "pygments_lexer": "ipython3",
   "version": "3.11.5"
  }
 },
 "nbformat": 4,
 "nbformat_minor": 5
}
