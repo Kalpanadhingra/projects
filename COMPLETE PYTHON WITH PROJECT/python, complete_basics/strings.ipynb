{
 "cells": [
  {
   "cell_type": "markdown",
   "id": "ff2b7630",
   "metadata": {},
   "source": [
    "# strings"
   ]
  },
  {
   "cell_type": "code",
   "execution_count": 1,
   "id": "82d102a8",
   "metadata": {},
   "outputs": [
    {
     "name": "stdout",
     "output_type": "stream",
     "text": [
      "aditya\n",
      "<class 'str'>\n"
     ]
    }
   ],
   "source": [
    "x=\"aditya\"\n",
    "print(x)\n",
    "print(type(x))"
   ]
  },
  {
   "cell_type": "code",
   "execution_count": 4,
   "id": "2fe72e08",
   "metadata": {},
   "outputs": [
    {
     "name": "stdout",
     "output_type": "stream",
     "text": [
      "enter data: aditya\n",
      "<class 'str'>\n"
     ]
    }
   ],
   "source": [
    "x=input(\"enter data: \")\n",
    "print(type(x))"
   ]
  },
  {
   "cell_type": "code",
   "execution_count": 5,
   "id": "776de6b6",
   "metadata": {},
   "outputs": [
    {
     "name": "stdout",
     "output_type": "stream",
     "text": [
      "enter data: swati\n",
      "<class 'str'>\n"
     ]
    }
   ],
   "source": [
    "x=input(\"enter data: \")\n",
    "print(type(x))"
   ]
  },
  {
   "cell_type": "markdown",
   "id": "2839fb40",
   "metadata": {},
   "source": [
    "# len()"
   ]
  },
  {
   "cell_type": "code",
   "execution_count": 8,
   "id": "8a3ae2a4",
   "metadata": {},
   "outputs": [
    {
     "name": "stdout",
     "output_type": "stream",
     "text": [
      "9\n",
      "n\n"
     ]
    }
   ],
   "source": [
    "str= \"deepanshu\"\n",
    "print(len(str))\n",
    "print(str[5])"
   ]
  },
  {
   "cell_type": "markdown",
   "id": "8ec14fae",
   "metadata": {},
   "source": [
    "# index no"
   ]
  },
  {
   "cell_type": "code",
   "execution_count": 11,
   "id": "d0179013",
   "metadata": {},
   "outputs": [
    {
     "name": "stdout",
     "output_type": "stream",
     "text": [
      "length of str is : 23\n",
      "hey kal\n"
     ]
    }
   ],
   "source": [
    "str=\"hey kalpu! how are you?\"\n",
    "print(\"length of str is :\", len(str))\n",
    "print(str[0:7])"
   ]
  },
  {
   "cell_type": "markdown",
   "id": "32cfe19a",
   "metadata": {},
   "source": [
    "# slicing "
   ]
  },
  {
   "cell_type": "code",
   "execution_count": 15,
   "id": "575c09e9",
   "metadata": {},
   "outputs": [
    {
     "name": "stdout",
     "output_type": "stream",
     "text": [
      "49\n",
      "hi ynm sklaaadia tdigi MT\n"
     ]
    }
   ],
   "source": [
    "a=\"hii, my name is kalpana and i am studying in JMIT\"\n",
    "print(len(a))\n",
    "print(a[0:49:2])\n"
   ]
  },
  {
   "cell_type": "markdown",
   "id": "ddf76c8d",
   "metadata": {},
   "source": [
    "# upper  and lower function"
   ]
  },
  {
   "cell_type": "code",
   "execution_count": 18,
   "id": "f47d43ef",
   "metadata": {},
   "outputs": [
    {
     "name": "stdout",
     "output_type": "stream",
     "text": [
      "KALPANA IS VERY KIND AND GOOD HEARTENED GIRL . SHE IS VERY HONEST.\n",
      "kalpana is very kind and good heartened girl . she is very honest.\n"
     ]
    }
   ],
   "source": [
    "str= \"kalpana is very kind and good heartened girl . she is very honest.\"\n",
    "print(str.upper())\n",
    "print(str.lower())\n"
   ]
  },
  {
   "cell_type": "markdown",
   "id": "2cf9928e",
   "metadata": {},
   "source": [
    "# negative index"
   ]
  },
  {
   "cell_type": "code",
   "execution_count": 28,
   "id": "16b94a3e",
   "metadata": {},
   "outputs": [
    {
     "name": "stdout",
     "output_type": "stream",
     "text": [
      "161\n",
      " Hello my name is kalpana . I persue bachelors in computer science from JMIT. I believe that my creative thinking always help me to look the things in newer way.\n",
      "-------------------------------------------\n",
      " onil pehsctcemTbva ttil  ok g r\n",
      "...........................................\n",
      ".yaw rewen ni sgniht eht kool ot em pleh syawla gnikniht evitaerc ym taht eveileb I .TIMJ morf ecneics retupmoc ni srolehcab eusrep I . anaplak si eman ym olleH \n",
      "```````````````````````````````````````````\n",
      ".a ee isnh h olo mpe ywaginh vtecy ateelbI.IJmr cec eumcn rlha urpI.aalks mny le\n",
      "\n",
      "n\n"
     ]
    }
   ],
   "source": [
    "A=''' Hello my name is kalpana . I persue bachelors in computer science from JMIT. I believe that my creative thinking always help me to look the things in newer way.'''\n",
    "print(len(A))\n",
    "print(A)\n",
    "print(\"-------------------------------------------\")\n",
    "print(A[0:160:5])\n",
    "print(\"...........................................\")\n",
    "print(A[::-1])\n",
    "print(\"```````````````````````````````````````````\")\n",
    "print(A[161:1:-2])\n",
    "print()\n",
    "print(A[23])"
   ]
  },
  {
   "cell_type": "markdown",
   "id": "5924f243",
   "metadata": {},
   "source": [
    "# replace "
   ]
  },
  {
   "cell_type": "code",
   "execution_count": 33,
   "id": "776ab234",
   "metadata": {},
   "outputs": [
    {
     "name": "stdout",
     "output_type": "stream",
     "text": [
      "hi my name is kalpana\n"
     ]
    }
   ],
   "source": [
    "str=\"hello my name is kalpana\"\n",
    "print(str.replace(\"hello\",\"hi\"))"
   ]
  },
  {
   "cell_type": "markdown",
   "id": "39a43454",
   "metadata": {},
   "source": [
    "# find"
   ]
  },
  {
   "cell_type": "code",
   "execution_count": 38,
   "id": "e705c8f8",
   "metadata": {},
   "outputs": [
    {
     "name": "stdout",
     "output_type": "stream",
     "text": [
      "14\n"
     ]
    }
   ],
   "source": [
    "str=\"kalpana is 19 years old\"\n",
    "print(str.find(\"years\"))"
   ]
  },
  {
   "cell_type": "code",
   "execution_count": null,
   "id": "60818e9a",
   "metadata": {},
   "outputs": [],
   "source": []
  }
 ],
 "metadata": {
  "kernelspec": {
   "display_name": "Python 3 (ipykernel)",
   "language": "python",
   "name": "python3"
  },
  "language_info": {
   "codemirror_mode": {
    "name": "ipython",
    "version": 3
   },
   "file_extension": ".py",
   "mimetype": "text/x-python",
   "name": "python",
   "nbconvert_exporter": "python",
   "pygments_lexer": "ipython3",
   "version": "3.11.5"
  }
 },
 "nbformat": 4,
 "nbformat_minor": 5
}
