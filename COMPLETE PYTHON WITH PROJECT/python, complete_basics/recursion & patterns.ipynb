{
 "cells": [
  {
   "cell_type": "markdown",
   "id": "ca841a46",
   "metadata": {},
   "source": [
    "# RECURSION"
   ]
  },
  {
   "cell_type": "code",
   "execution_count": 1,
   "id": "4a52962f",
   "metadata": {},
   "outputs": [],
   "source": [
    "# recursion loop using function"
   ]
  },
  {
   "cell_type": "code",
   "execution_count": 6,
   "id": "01cda5ab",
   "metadata": {},
   "outputs": [
    {
     "name": "stdout",
     "output_type": "stream",
     "text": [
      "5 4 3 2 1 "
     ]
    }
   ],
   "source": [
    "def show(n):\n",
    "    if(n==0):\n",
    "        return\n",
    "    print(n , end=\" \")\n",
    "    show(n-1)\n",
    "\n",
    "show(5)"
   ]
  },
  {
   "cell_type": "code",
   "execution_count": 10,
   "id": "58693616",
   "metadata": {},
   "outputs": [],
   "source": [
    "#to return nothing\n",
    "def sum():\n",
    "    pass"
   ]
  },
  {
   "cell_type": "code",
   "execution_count": 11,
   "id": "37f39cec",
   "metadata": {},
   "outputs": [
    {
     "name": "stdout",
     "output_type": "stream",
     "text": [
      "15\n"
     ]
    }
   ],
   "source": [
    "def prod(a,b):\n",
    "    m= print(a*b)\n",
    "    return m\n",
    "prod(3,5)\n"
   ]
  },
  {
   "cell_type": "code",
   "execution_count": 23,
   "id": "621314e1",
   "metadata": {},
   "outputs": [
    {
     "data": {
      "text/plain": [
       "120"
      ]
     },
     "execution_count": 23,
     "metadata": {},
     "output_type": "execute_result"
    }
   ],
   "source": [
    "def fact(n):\n",
    "    fact=1\n",
    "    for i in range(1,n+1):\n",
    "        fact= fact*i\n",
    "    #fact(n-1)\n",
    "    return fact\n",
    "fact(5)\n"
   ]
  },
  {
   "cell_type": "code",
   "execution_count": 45,
   "id": "08f8c3f7",
   "metadata": {},
   "outputs": [
    {
     "name": "stdout",
     "output_type": "stream",
     "text": [
      "6\n",
      "120\n",
      "720\n"
     ]
    }
   ],
   "source": [
    "def fact(n):\n",
    "    if(n==0 or n==1):\n",
    "        return 1\n",
    "    return fact(n-1)* n\n",
    "v=fact(3)\n",
    "print(v)\n",
    "n=fact(5)\n",
    "print(n)\n",
    "print(fact(6))"
   ]
  },
  {
   "cell_type": "code",
   "execution_count": 56,
   "id": "02955ba1",
   "metadata": {},
   "outputs": [
    {
     "name": "stdout",
     "output_type": "stream",
     "text": [
      "15\n"
     ]
    }
   ],
   "source": [
    "def calc_sum(n):\n",
    "    if(n==0):\n",
    "        return 0\n",
    "    return calc_sum(n-1)+ n\n",
    "sum=calc_sum(5)\n",
    "print(sum)"
   ]
  },
  {
   "cell_type": "code",
   "execution_count": null,
   "id": "db63f109",
   "metadata": {},
   "outputs": [],
   "source": [
    "#print the elements of list using recursion"
   ]
  },
  {
   "cell_type": "code",
   "execution_count": 71,
   "id": "df24eda8",
   "metadata": {},
   "outputs": [
    {
     "name": "stdout",
     "output_type": "stream",
     "text": [
      "mango\n",
      "banana\n",
      "apple\n",
      "litchi\n",
      "berry\n"
     ]
    }
   ],
   "source": [
    "def print_list(list,idx=0):\n",
    "    if(idx==len(list)):\n",
    "        return\n",
    "    print(list[idx])\n",
    "    print_list(list,idx+1)\n",
    "fruits=[\"mango\",\"banana\",\"apple\",\"litchi\",\"berry\"]\n",
    "print_list(fruits)"
   ]
  },
  {
   "cell_type": "code",
   "execution_count": null,
   "id": "030b9ba9",
   "metadata": {},
   "outputs": [],
   "source": []
  }
 ],
 "metadata": {
  "kernelspec": {
   "display_name": "Python 3 (ipykernel)",
   "language": "python",
   "name": "python3"
  },
  "language_info": {
   "codemirror_mode": {
    "name": "ipython",
    "version": 3
   },
   "file_extension": ".py",
   "mimetype": "text/x-python",
   "name": "python",
   "nbconvert_exporter": "python",
   "pygments_lexer": "ipython3",
   "version": "3.11.5"
  }
 },
 "nbformat": 4,
 "nbformat_minor": 5
}
