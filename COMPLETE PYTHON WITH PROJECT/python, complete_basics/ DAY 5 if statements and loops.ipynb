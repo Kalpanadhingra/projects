{
 "cells": [
  {
   "cell_type": "markdown",
   "id": "4a340324",
   "metadata": {},
   "source": [
    "# if statememts"
   ]
  },
  {
   "cell_type": "markdown",
   "id": "48339838",
   "metadata": {},
   "source": [
    "### if is a condition statement used to compare something if the condition is true then the block of code is executed otherwise it skips the block"
   ]
  },
  {
   "cell_type": "code",
   "execution_count": null,
   "id": "dfd4ff25",
   "metadata": {},
   "outputs": [],
   "source": [
    "x=23\n",
    "if x>=20:\n",
    "    print(\"The number is greater than 20 that is :\\n\" , x)"
   ]
  },
  {
   "cell_type": "code",
   "execution_count": null,
   "id": "aa6db93c",
   "metadata": {},
   "outputs": [],
   "source": [
    "x= int(input(\"enter the number:\"))\n",
    "if x%5==0:\n",
    "    print(\"hello\")\n",
    "print(\"bye\")"
   ]
  },
  {
   "cell_type": "markdown",
   "id": "46d48a7f",
   "metadata": {},
   "source": [
    "## if and else "
   ]
  },
  {
   "cell_type": "code",
   "execution_count": 3,
   "id": "ff4f9221",
   "metadata": {},
   "outputs": [
    {
     "name": "stdout",
     "output_type": "stream",
     "text": [
      "enter name:asddds\n",
      "enter the number:23\n",
      "so sorry! you entered a wrong number try agin asddds ............\n"
     ]
    }
   ],
   "source": [
    "name=input(\"enter name:\")\n",
    "x= int(input(\"enter the number:\"))\n",
    "if x%5==0:\n",
    "    print(\"hello\", name)\n",
    "else:\n",
    "    print(\"so sorry! you entered a wrong number try agin\", name , \"............\")"
   ]
  },
  {
   "cell_type": "markdown",
   "id": "3ceb055d",
   "metadata": {},
   "source": [
    "# else if "
   ]
  },
  {
   "cell_type": "code",
   "execution_count": 25,
   "id": "9c3d62d3",
   "metadata": {},
   "outputs": [
    {
     "name": "stdout",
     "output_type": "stream",
     "text": [
      "enter the number12\n",
      "retry again! All the best for next time:)\n"
     ]
    }
   ],
   "source": [
    "x= float(input(\"enter the number\"))\n",
    "if x>90:\n",
    "    print(\"excellent\")\n",
    "elif x>70:\n",
    "    print(\"very good\")\n",
    "elif x>40:\n",
    "    print(\"pass\")\n",
    "else:\n",
    "        print(\"retry again! All the best for next time:)\")\n",
    "   "
   ]
  },
  {
   "cell_type": "markdown",
   "id": "ff0e09ba",
   "metadata": {},
   "source": [
    "# nested if"
   ]
  },
  {
   "cell_type": "code",
   "execution_count": 20,
   "id": "adc0cb64",
   "metadata": {},
   "outputs": [
    {
     "name": "stdout",
     "output_type": "stream",
     "text": [
      "enter the number: 23\n",
      "the number is odd\n"
     ]
    }
   ],
   "source": [
    "x= int(input(\"enter the number: \"))\n",
    "if x>20:\n",
    "    if x%2==0:\n",
    "        print(\"the number is even \")\n",
    "    else:\n",
    "        print(\"the number is odd\")\n",
    "else:\n",
    "    print(\"number is less than 20\")\n"
   ]
  },
  {
   "cell_type": "markdown",
   "id": "74fb6b44",
   "metadata": {},
   "source": [
    "# whileloop"
   ]
  },
  {
   "cell_type": "markdown",
   "id": "54fc7b42",
   "metadata": {},
   "source": [
    "## it is used when we have to run same lines of code multiple times"
   ]
  },
  {
   "cell_type": "markdown",
   "id": "f98f38b9",
   "metadata": {},
   "source": [
    "### table of any number"
   ]
  },
  {
   "cell_type": "code",
   "execution_count": 28,
   "id": "fbf9a59b",
   "metadata": {},
   "outputs": [
    {
     "name": "stdout",
     "output_type": "stream",
     "text": [
      "enter the value: 5\n",
      "5  *  1  =  5\n",
      "5  *  2  =  10\n",
      "5  *  3  =  15\n",
      "5  *  4  =  20\n",
      "5  *  5  =  25\n",
      "5  *  6  =  30\n",
      "5  *  7  =  35\n",
      "5  *  8  =  40\n",
      "5  *  9  =  45\n",
      "5  *  10  =  50\n"
     ]
    }
   ],
   "source": [
    "i= int(input(\"enter the value: \"))\n",
    "x=1\n",
    "while x<=10:\n",
    "    print(i,\" * \",x,\" = \",(i*x))\n",
    "    x=x+1\n",
    "    "
   ]
  },
  {
   "cell_type": "code",
   "execution_count": null,
   "id": "82544289",
   "metadata": {},
   "outputs": [],
   "source": [
    "i=1\n",
    "while i<2:\n",
    "    print(\" Kalpana Dhingra is a successfull lady .\\n She is a very honest and kind officer and a good data analyst.\\n She is a millionaire. Her parents are very proud her .\\n Her brother (aditya) and sister(swati) both are at good post and work very honestly.\\n She is a wife of deepanshu, he is an IAS officer.\\n They all lived a very happy life..... \")\n",
    "    i=i+1"
   ]
  },
  {
   "cell_type": "code",
   "execution_count": null,
   "id": "30cbc12c",
   "metadata": {},
   "outputs": [],
   "source": [
    "x=5\n",
    "while x>=1:\n",
    "    print(\"hello Kalpana.... how are you\")\n",
    "    x=x-1"
   ]
  },
  {
   "cell_type": "markdown",
   "id": "dfa252ad",
   "metadata": {},
   "source": [
    "# for loop"
   ]
  },
  {
   "cell_type": "markdown",
   "id": "c38b8b5a",
   "metadata": {},
   "source": [
    "### for loop is used for iteration in this we have 3 space for(initiaize;condition;iteration(++,--))"
   ]
  },
  {
   "cell_type": "markdown",
   "id": "62be7145",
   "metadata": {},
   "source": [
    "# for strings"
   ]
  },
  {
   "cell_type": "code",
   "execution_count": null,
   "id": "a3d0d2c8",
   "metadata": {},
   "outputs": [],
   "source": [
    "i=0\n",
    "x=10\n",
    "for i in range(x):\n",
    "    print(i)"
   ]
  },
  {
   "cell_type": "code",
   "execution_count": null,
   "id": "b4092ea2",
   "metadata": {},
   "outputs": [],
   "source": [
    "fruits=[\"apple\",\"mango\",\"banana\"]\n",
    "for i in fruits:\n",
    "    print(i)"
   ]
  },
  {
   "cell_type": "code",
   "execution_count": null,
   "id": "7cb9e483",
   "metadata": {},
   "outputs": [],
   "source": [
    "name= \"Kalpana\"\n",
    "for i in name:\n",
    "    print(i)"
   ]
  },
  {
   "cell_type": "markdown",
   "id": "d4a2e18a",
   "metadata": {},
   "source": [
    "# for integers we use range() functions"
   ]
  },
  {
   "cell_type": "code",
   "execution_count": null,
   "id": "783db789",
   "metadata": {},
   "outputs": [],
   "source": [
    "x=10\n",
    "for i in range(x):\n",
    "    print(i ,\" hii \")"
   ]
  },
  {
   "cell_type": "code",
   "execution_count": null,
   "id": "8b4ba070",
   "metadata": {},
   "outputs": [],
   "source": [
    "i=10\n",
    "for d in range(i):\n",
    "    if d%2==0:\n",
    "        print(d)\n",
    "    "
   ]
  },
  {
   "cell_type": "code",
   "execution_count": null,
   "id": "f26579f6",
   "metadata": {},
   "outputs": [],
   "source": [
    "for i in range(1,20):\n",
    "        print(i)\n",
    "        "
   ]
  },
  {
   "cell_type": "code",
   "execution_count": null,
   "id": "ffa69d25",
   "metadata": {},
   "outputs": [],
   "source": [
    "for i in range(1,20,2):\n",
    "    print(\"helloo.......\" , i)"
   ]
  },
  {
   "cell_type": "code",
   "execution_count": null,
   "id": "c44f40b8",
   "metadata": {},
   "outputs": [],
   "source": []
  }
 ],
 "metadata": {
  "kernelspec": {
   "display_name": "Python 3 (ipykernel)",
   "language": "python",
   "name": "python3"
  },
  "language_info": {
   "codemirror_mode": {
    "name": "ipython",
    "version": 3
   },
   "file_extension": ".py",
   "mimetype": "text/x-python",
   "name": "python",
   "nbconvert_exporter": "python",
   "pygments_lexer": "ipython3",
   "version": "3.11.5"
  }
 },
 "nbformat": 4,
 "nbformat_minor": 5
}
