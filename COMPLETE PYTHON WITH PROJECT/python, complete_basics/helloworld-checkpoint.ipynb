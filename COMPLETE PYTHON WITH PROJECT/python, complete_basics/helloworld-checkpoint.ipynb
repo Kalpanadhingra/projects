{
 "cells": [
  {
   "cell_type": "code",
   "execution_count": null,
   "id": "ad56f837",
   "metadata": {},
   "outputs": [],
   "source": [
    "print(\"helo world \")\n"
   ]
  },
  {
   "cell_type": "code",
   "execution_count": null,
   "id": "56127b8a",
   "metadata": {},
   "outputs": [],
   "source": [
    "a=2\n",
    "b=5\n",
    "print(a+b)"
   ]
  },
  {
   "cell_type": "code",
   "execution_count": 7,
   "id": "4dbe0018",
   "metadata": {},
   "outputs": [
    {
     "name": "stdout",
     "output_type": "stream",
     "text": [
      "enter name23\n",
      "no \n"
     ]
    }
   ],
   "source": [
    "x=input(\"enter name\")\n",
    "if x==\"ex\":\n",
    "    print(\"yes, extra cheez \")\n",
    "else:\n",
    "    print(\"no \")"
   ]
  },
  {
   "cell_type": "markdown",
   "id": "ad687227",
   "metadata": {},
   "source": [
    "# title"
   ]
  },
  {
   "cell_type": "markdown",
   "id": "bb2450fa",
   "metadata": {},
   "source": [
    "## todays class"
   ]
  },
  {
   "cell_type": "raw",
   "id": "df2a3bce",
   "metadata": {},
   "source": [
    "hiii i ,m "
   ]
  },
  {
   "cell_type": "markdown",
   "id": "c4357616",
   "metadata": {},
   "source": [
    "hiii"
   ]
  },
  {
   "cell_type": "code",
   "execution_count": 9,
   "id": "29ea13da",
   "metadata": {},
   "outputs": [
    {
     "name": "stdout",
     "output_type": "stream",
     "text": [
      "enter no3\n",
      "i is 1\n",
      "i is 2\n",
      "i is 3\n"
     ]
    }
   ],
   "source": [
    "n= int(input(\"enter no\"))\n",
    "i=1\n",
    "while i<=n:\n",
    "    print(\"i is\",i)\n",
    "    i=i+1"
   ]
  },
  {
   "cell_type": "code",
   "execution_count": null,
   "id": "211baffa",
   "metadata": {},
   "outputs": [],
   "source": []
  }
 ],
 "metadata": {
  "kernelspec": {
   "display_name": "Python 3 (ipykernel)",
   "language": "python",
   "name": "python3"
  },
  "language_info": {
   "codemirror_mode": {
    "name": "ipython",
    "version": 3
   },
   "file_extension": ".py",
   "mimetype": "text/x-python",
   "name": "python",
   "nbconvert_exporter": "python",
   "pygments_lexer": "ipython3",
   "version": "3.11.5"
  }
 },
 "nbformat": 4,
 "nbformat_minor": 5
}
