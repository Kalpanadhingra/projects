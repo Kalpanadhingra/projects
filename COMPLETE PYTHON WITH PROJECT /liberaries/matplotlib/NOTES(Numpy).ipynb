{
 "cells": [
  {
   "cell_type": "markdown",
   "id": "91568af0",
   "metadata": {},
   "source": [
    "# NUMPY LIBRARY"
   ]
  },
  {
   "cell_type": "raw",
   "id": "4aea07a1",
   "metadata": {},
   "source": [
    "NumPY(numericaL python) is an open source python Library that is used in aLmost every fieLd of science and enginnering. Its the universe standard for working with numericaLdata in python , and its at the core of the scientific python and PYdata ecosystems."
   ]
  },
  {
   "cell_type": "raw",
   "id": "6f96813d",
   "metadata": {},
   "source": [
    "The numpy Library contains a muLtidimensionaL aray and matrix data structures.\n",
    "\n",
    "NumPY can be used a wide variety of mathematicaL operation on array and matrices. it adds powerfuLL data structure to python that gurantee efficient caLcuLation with arrays and matrices and it suppLies an enormou Library of high LeveL mathematicaL functions that operates  on these aray and matrices.\n",
    "\n",
    "it aLso has functions for working in domainsof Linear aLgebra, fourier transform matrices . \n",
    "\n",
    "NumPY was created in 2005 by TRAVIS OLIPHANT . it is an open source and you can use it for free.\n"
   ]
  },
  {
   "cell_type": "markdown",
   "id": "eedaa948",
   "metadata": {},
   "source": [
    "## WHY WE USE NUMPY"
   ]
  },
  {
   "cell_type": "raw",
   "id": "64a11770",
   "metadata": {},
   "source": [
    "in python we have List that serve thepurpose of array , but they are sLow to process .\n",
    "\n",
    "NumPY aims to provide an array obeject that is up to 50x faster than traditionaL python List .\n",
    "\n",
    "the array obeject in numpy is caLLed (ndarray) , it provides a Lot of supporting functions that make working with ndarray very easy.\n",
    "\n",
    "Array are very frequentLy used in data science, where speed and resources are very important.\n",
    "\n"
   ]
  },
  {
   "cell_type": "markdown",
   "id": "65f4615c",
   "metadata": {},
   "source": [
    "### why numpy is faster"
   ]
  },
  {
   "cell_type": "raw",
   "id": "296f891d",
   "metadata": {},
   "source": [
    "Numpy array are stored at one continous pLace in memory unLike Lists  so processes can access and manipuLate them very efficientLy .\n",
    "\n",
    "this behaviour is caLLed LocaLity of reference in computer science.\n",
    "\n",
    "this is the main reason why numpy is wideLy used."
   ]
  },
  {
   "cell_type": "markdown",
   "id": "b8422af5",
   "metadata": {},
   "source": [
    "# NUMPY ARRAY INDEXING"
   ]
  },
  {
   "cell_type": "raw",
   "id": "0a36866d",
   "metadata": {},
   "source": [
    "array indexing is the same as accessing an array eLement.\n",
    "\n",
    "you can access an array eLement by refering to its index number.\n",
    "\n",
    "the indices  in numpy arrays start with 0, meaning that the first eLement has index 0 and second has index 1 and so on.\n"
   ]
  },
  {
   "cell_type": "markdown",
   "id": "edbcc5b2",
   "metadata": {},
   "source": [
    "## Get the first eLement from array\n",
    "### we write arr[0]"
   ]
  },
  {
   "cell_type": "markdown",
   "id": "d19af3c8",
   "metadata": {},
   "source": [
    "## Get thefirst eLement of 2 d array in second row\n",
    "### arr[1,0]"
   ]
  },
  {
   "cell_type": "markdown",
   "id": "71783992",
   "metadata": {},
   "source": [
    "## Accessing 3 d arrays"
   ]
  },
  {
   "cell_type": "markdown",
   "id": "49f51af8",
   "metadata": {},
   "source": [
    "# SLICING"
   ]
  },
  {
   "cell_type": "code",
   "execution_count": null,
   "id": "3464f3f0",
   "metadata": {},
   "outputs": [],
   "source": []
  }
 ],
 "metadata": {
  "kernelspec": {
   "display_name": "Python 3 (ipykernel)",
   "language": "python",
   "name": "python3"
  },
  "language_info": {
   "codemirror_mode": {
    "name": "ipython",
    "version": 3
   },
   "file_extension": ".py",
   "mimetype": "text/x-python",
   "name": "python",
   "nbconvert_exporter": "python",
   "pygments_lexer": "ipython3",
   "version": "3.11.5"
  }
 },
 "nbformat": 4,
 "nbformat_minor": 5
}
