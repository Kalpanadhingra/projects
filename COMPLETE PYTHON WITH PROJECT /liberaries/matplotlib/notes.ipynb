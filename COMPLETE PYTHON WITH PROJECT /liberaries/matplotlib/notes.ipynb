{
 "cells": [
  {
   "cell_type": "markdown",
   "id": "b01d3958",
   "metadata": {},
   "source": [
    "# plotly"
   ]
  },
  {
   "cell_type": "markdown",
   "id": "c8700ed6",
   "metadata": {},
   "source": [
    "The plotly library is an interactive open source library. this can be a very helpfull for data visualization and understanding the data simply and easily . plotly graph object are a high level interface to plotly which are easy to use , it can plot various types of graphs and charts like scatter plots, line charts , bar charts , box plots , histogram , pie charts, etc"
   ]
  },
  {
   "cell_type": "markdown",
   "id": "d230aed0",
   "metadata": {},
   "source": [
    "why plotly over other visualization tools or liberaries ?\n"
   ]
  },
  {
   "cell_type": "raw",
   "id": "7692d0c8",
   "metadata": {},
   "source": [
    "Plotly has hover tools capabilities that allow us to detect any outlines or anamolies in a large number of data points.\n"
   ]
  },
  {
   "cell_type": "raw",
   "id": "e05c6f2d",
   "metadata": {},
   "source": [
    "It is visually attractive that can be accesed by a wide range of audience .\n",
    "It allows us for the endless customization of our graphs that makes our plot more meaningfull and understandable for others."
   ]
  },
  {
   "cell_type": "raw",
   "id": "5141956f",
   "metadata": {},
   "source": [
    "Plotly's python graphing liberary maes interactive , publication quality graphs. like lineplots , scatter plots, area charts bar charts, erroe bars, box plots , histograms, heatmaps, subpots, multiple-axis, polar charts, and bubble charts.\n",
    "\n"
   ]
  },
  {
   "cell_type": "markdown",
   "id": "d624e77e",
   "metadata": {},
   "source": [
    "Installation"
   ]
  },
  {
   "cell_type": "raw",
   "id": "58770f7f",
   "metadata": {},
   "source": [
    "pip install plotly"
   ]
  },
  {
   "cell_type": "markdown",
   "id": "88923020",
   "metadata": {},
   "source": [
    "## Plotly vs seaborn"
   ]
  },
  {
   "cell_type": "markdown",
   "id": "57e99f0c",
   "metadata": {},
   "source": [
    "plotly is a partly opensource analysis and visulization tool with support for web based , 3d and animates plots , plotly allows for a hih degree of customization and interactivity and supports multiple languages.\n"
   ]
  },
  {
   "cell_type": "markdown",
   "id": "4bd47167",
   "metadata": {},
   "source": [
    "seaborn is a fully open souce python visualization library built on top of matplotlib to create visully appealing plots quickly . seaborn does not have built in 3D and animation capabilities without the use of matplotlib."
   ]
  },
  {
   "cell_type": "markdown",
   "id": "e76d3930",
   "metadata": {},
   "source": [
    "# plotly vs matplotlib"
   ]
  },
  {
   "cell_type": "raw",
   "id": "940c8c3f",
   "metadata": {},
   "source": [
    "Matplotlib is a open source plotting liberary for creating visualization within python . it is best suited to initial exploratory analysis or minimalistic graph design . matplotlib is also designed to have similarities with MATlAB.\n"
   ]
  },
  {
   "cell_type": "raw",
   "id": "5f45f939",
   "metadata": {},
   "source": [
    "Plotly is a most open source data analytics and visualization tool(with some closed source products and services ). It creates charts for web browsers and supports multiple languages , such as python , julia R, MATlAB"
   ]
  },
  {
   "cell_type": "code",
   "execution_count": null,
   "id": "acf9e7da",
   "metadata": {},
   "outputs": [],
   "source": []
  }
 ],
 "metadata": {
  "kernelspec": {
   "display_name": "Python 3 (ipykernel)",
   "language": "python",
   "name": "python3"
  },
  "language_info": {
   "codemirror_mode": {
    "name": "ipython",
    "version": 3
   },
   "file_extension": ".py",
   "mimetype": "text/x-python",
   "name": "python",
   "nbconvert_exporter": "python",
   "pygments_lexer": "ipython3",
   "version": "3.11.5"
  }
 },
 "nbformat": 4,
 "nbformat_minor": 5
}
