{
 "cells": [
  {
   "cell_type": "markdown",
   "id": "f78e7f81",
   "metadata": {},
   "source": [
    "# Matplotlib"
   ]
  },
  {
   "cell_type": "raw",
   "id": "81ad01f2",
   "metadata": {},
   "source": [
    "Matplotib is a multi-platform data visualization library built on NumPY array and designed to work with the boarder SciPy. It was introduced by Jhon Hunter in the year 2002. One of the greatest benefits of visualitation is that it allows us visual access to huge amounts of data in easily digestible visuals."
   ]
  },
  {
   "cell_type": "raw",
   "id": "72052010",
   "metadata": {},
   "source": [
    "installations of Matplotlib.\n",
    "\n",
    "if you have python and pip already installed on a system then installation of Matplotlib is very easy .\n",
    "\n",
    "instalit using this command:\n",
    "\n",
    "C:\\Users\\Your Name>pip install matplotlib\n",
    "\n",
    "Pyplot\n",
    "\n",
    "Most of the matplotlib utilies lies under the pyplot submodule and are usually imported under alias :\n",
    "\n",
    "import matlplotlib.pyplot as plt"
   ]
  },
  {
   "cell_type": "markdown",
   "id": "98fd5c26",
   "metadata": {},
   "source": [
    "### types of graphs using plt"
   ]
  },
  {
   "cell_type": "raw",
   "id": "76ed86a2",
   "metadata": {},
   "source": [
    "1.linear graph\n",
    "2. Scatter graph\n",
    "3. bar plot\n",
    "4.stem plot \n",
    "5. step plot\n",
    "6. hist plot\n",
    "7. box plot \n",
    "8. pie plot\n",
    "9. fill_between_plot"
   ]
  },
  {
   "cell_type": "code",
   "execution_count": null,
   "id": "e3cd66bd",
   "metadata": {},
   "outputs": [],
   "source": []
  }
 ],
 "metadata": {
  "kernelspec": {
   "display_name": "Python 3 (ipykernel)",
   "language": "python",
   "name": "python3"
  },
  "language_info": {
   "codemirror_mode": {
    "name": "ipython",
    "version": 3
   },
   "file_extension": ".py",
   "mimetype": "text/x-python",
   "name": "python",
   "nbconvert_exporter": "python",
   "pygments_lexer": "ipython3",
   "version": "3.11.5"
  }
 },
 "nbformat": 4,
 "nbformat_minor": 5
}
