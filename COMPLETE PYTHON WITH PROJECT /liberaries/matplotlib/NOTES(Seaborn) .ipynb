{
 "cells": [
  {
   "cell_type": "markdown",
   "id": "dace5286",
   "metadata": {},
   "source": [
    "# Seaborn"
   ]
  },
  {
   "cell_type": "raw",
   "id": "db818101",
   "metadata": {},
   "source": [
    "Visualizationis an important part of story tepltplting we can gain a lot ofinformation from data by simply just ploting the features of data.python provides a numerous number of liberaries for data visualization.\n",
    "\n",
    "seaborn is a library for makinseaborn is a library for making statisticalgraphics in python. it builds on top of matplotlb and integrals closely with pandas data structures.\n",
    "\n",
    "seaborn helps you explore and understand your data. its plotting operate on dataframes and arrays containing whole datasets and internally perform the next semantic mapping and statistical aggregation to produce informative plots. its oriented ,declarative API lets you focus on ehat the different elements of your plot rather than on the details of how to draw them.\n",
    "\n"
   ]
  },
  {
   "cell_type": "raw",
   "id": "f744fbb0",
   "metadata": {},
   "source": [
    "Different categories of plot in seaborn\n",
    "\n",
    "plots are basically used for visuallization the relationship between variables .those variables can be either completely numerical like a group, class or division . Seaborn divides the plot into the below categories-\n",
    "\n",
    "Relational plots: This plot is used to understand the relation between twovariables.\n",
    "\n",
    "Categorical plots: This plot deals with categories variable and how they canbe visualized .\n",
    "\n",
    "Distribution plot: this plot is used for examining univariate bivariate distribution.\n"
   ]
  },
  {
   "cell_type": "raw",
   "id": "2d917606",
   "metadata": {},
   "source": [
    "Regretion plots:The regression plot in seaborn are primarily intented to add a visual guide thathelps to emphasize pattrns in a dataset during exploratory data analysis .\n",
    "\n",
    "Matrix plots: A matrix plotis an array of scatterplots. \n",
    "\n",
    "Multiplot grids: Itis a usefull aproach to draw multiple instances of the same and different subset of the dataset.\n"
   ]
  },
  {
   "cell_type": "raw",
   "id": "47d5ecbc",
   "metadata": {},
   "source": [
    "Instalation of seaborn library\n",
    "\n",
    "For Python environment:\n",
    "pip install seaborn\n",
    "\n",
    "For conda environment:\n",
    "conda install seaborn"
   ]
  },
  {
   "cell_type": "raw",
   "id": "957fbe5d",
   "metadata": {},
   "source": [
    "Dependies for seaborn library\n",
    "There are some liberaries that must be install before using seaborn . Here we willlist out some basics thet are must for using seaborn\n",
    "\n",
    "Python3.6 or higher\n",
    "numpy(>=1.13.3)\n",
    "scipy(>=1.0.1)\n",
    "pandas(>=0.22.0)\n",
    "matplotlib(>=2.1.2)"
   ]
  },
  {
   "cell_type": "code",
   "execution_count": null,
   "id": "501d0e0b",
   "metadata": {},
   "outputs": [],
   "source": []
  }
 ],
 "metadata": {
  "kernelspec": {
   "display_name": "Python 3 (ipykernel)",
   "language": "python",
   "name": "python3"
  },
  "language_info": {
   "codemirror_mode": {
    "name": "ipython",
    "version": 3
   },
   "file_extension": ".py",
   "mimetype": "text/x-python",
   "name": "python",
   "nbconvert_exporter": "python",
   "pygments_lexer": "ipython3",
   "version": "3.11.5"
  }
 },
 "nbformat": 4,
 "nbformat_minor": 5
}
