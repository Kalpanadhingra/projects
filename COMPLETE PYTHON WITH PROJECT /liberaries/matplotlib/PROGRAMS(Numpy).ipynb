{
 "cells": [
  {
   "cell_type": "markdown",
   "id": "fe94153b",
   "metadata": {},
   "source": [
    "# NumPY"
   ]
  },
  {
   "cell_type": "code",
   "execution_count": 1,
   "id": "3afe7982",
   "metadata": {},
   "outputs": [],
   "source": [
    "import  numpy as np          #np as aLias of numpy"
   ]
  },
  {
   "cell_type": "code",
   "execution_count": 11,
   "id": "2d5f808f",
   "metadata": {},
   "outputs": [
    {
     "name": "stdout",
     "output_type": "stream",
     "text": [
      "[1 2 3 4 5]\n",
      "<class 'numpy.ndarray'>\n"
     ]
    }
   ],
   "source": [
    "arr= np.array([1,2,3,4,5])\n",
    "print(arr)\n",
    "print(type(arr))\n"
   ]
  },
  {
   "cell_type": "code",
   "execution_count": 14,
   "id": "e390fc6c",
   "metadata": {},
   "outputs": [
    {
     "name": "stdout",
     "output_type": "stream",
     "text": [
      "[1 2 3 4 5]\n",
      "<class 'numpy.ndarray'>\n"
     ]
    }
   ],
   "source": [
    "arr=np.array((1,2,3,4,5))\n",
    "print(arr)\n",
    "print(type(arr))"
   ]
  },
  {
   "cell_type": "markdown",
   "id": "97b66a02",
   "metadata": {},
   "source": [
    "# Dimensions in array"
   ]
  },
  {
   "cell_type": "code",
   "execution_count": 17,
   "id": "93c992ca",
   "metadata": {},
   "outputs": [
    {
     "name": "stdout",
     "output_type": "stream",
     "text": [
      "<class 'numpy.ndarray'>\n",
      "2\n",
      "0\n"
     ]
    }
   ],
   "source": [
    "arr=np.array((2))\n",
    "print(type(arr))\n",
    "print(arr)\n",
    "print(arr.ndim)"
   ]
  },
  {
   "cell_type": "markdown",
   "id": "269cfeb4",
   "metadata": {},
   "source": [
    "# 1 D array"
   ]
  },
  {
   "cell_type": "code",
   "execution_count": 23,
   "id": "4e698cb4",
   "metadata": {},
   "outputs": [
    {
     "name": "stdout",
     "output_type": "stream",
     "text": [
      "[1 2 3 4 5]\n",
      "<class 'numpy.ndarray'>\n",
      "1\n"
     ]
    }
   ],
   "source": [
    "arr= np.array([1,2,3,4,5])\n",
    "print(arr)\n",
    "print(type(arr))\n",
    "print(arr.ndim)"
   ]
  },
  {
   "cell_type": "code",
   "execution_count": 26,
   "id": "310dcb66",
   "metadata": {},
   "outputs": [
    {
     "name": "stdout",
     "output_type": "stream",
     "text": [
      "[[ 1  2  3  4  5]\n",
      " [ 3 54  6  2  1]]\n",
      "the size of array is 2\n"
     ]
    }
   ],
   "source": [
    "arr= np.array([[1,2,3,4,5],[3,54,6,2,1]])\n",
    "print(arr)\n",
    "print(\"the size of array is\",arr.ndim)"
   ]
  },
  {
   "cell_type": "markdown",
   "id": "de00bc2d",
   "metadata": {},
   "source": [
    "# 3 D array"
   ]
  },
  {
   "cell_type": "code",
   "execution_count": 30,
   "id": "dfe6d9f9",
   "metadata": {},
   "outputs": [
    {
     "name": "stdout",
     "output_type": "stream",
     "text": [
      "[[[ 1  2 43  2  1]\n",
      "  [ 5  3  2  1  3]\n",
      "  [ 3  2  5  4  1]]]\n",
      "3\n"
     ]
    }
   ],
   "source": [
    "arr= np.array([[[1,2,43,2,1],[5,3,2,1,3],[3,2,5,4,1]]])\n",
    "print(arr)\n",
    "print(arr.ndim)"
   ]
  },
  {
   "cell_type": "markdown",
   "id": "b0efce9c",
   "metadata": {},
   "source": [
    "## TO CHECK THE DIMENSIONS OF ARRAY U HAVE TO CHECK THE AST SQUARE BRACKETS \n",
    "### no of brackets= the dimension no"
   ]
  },
  {
   "cell_type": "markdown",
   "id": "33e18159",
   "metadata": {},
   "source": [
    "# creating the 5 d array "
   ]
  },
  {
   "cell_type": "code",
   "execution_count": 34,
   "id": "8b92e932",
   "metadata": {},
   "outputs": [
    {
     "name": "stdout",
     "output_type": "stream",
     "text": [
      "[[[[[1 2 3 4 5]]]]]\n",
      "5\n"
     ]
    }
   ],
   "source": [
    "arr= np.array([1,2,3,4,5],ndmin=5)\n",
    "print(arr)\n",
    "print(arr.ndim)"
   ]
  },
  {
   "cell_type": "code",
   "execution_count": 36,
   "id": "98d2963b",
   "metadata": {},
   "outputs": [
    {
     "name": "stdout",
     "output_type": "stream",
     "text": [
      "[[[[[1 2 3 4]]]]]\n",
      "5\n"
     ]
    }
   ],
   "source": [
    "arr= np.array([[[[[1,2,3,4]]]]])\n",
    "print(arr)\n",
    "print(arr.ndim)"
   ]
  },
  {
   "cell_type": "markdown",
   "id": "73d9e4d1",
   "metadata": {},
   "source": [
    "# indexing"
   ]
  },
  {
   "cell_type": "code",
   "execution_count": 44,
   "id": "3cf474fc",
   "metadata": {},
   "outputs": [
    {
     "name": "stdout",
     "output_type": "stream",
     "text": [
      "12\n",
      "5\n",
      "the sum of above two is 17\n"
     ]
    }
   ],
   "source": [
    "arr= np.array([12,3,2,5])\n",
    "print(arr[0])\n",
    "print(arr[3])\n",
    "print(\"the sum of above two is\",arr[0]+arr[3])"
   ]
  },
  {
   "cell_type": "markdown",
   "id": "45d03fce",
   "metadata": {},
   "source": [
    "# accessing from 2d array"
   ]
  },
  {
   "cell_type": "code",
   "execution_count": 57,
   "id": "c4896eb6",
   "metadata": {},
   "outputs": [
    {
     "name": "stdout",
     "output_type": "stream",
     "text": [
      "[[ 1  3  2 54]\n",
      " [ 2  5  3  9]]\n",
      "2nd eLement on 1st row is: 3\n",
      "4th eLement on 2nd row: 9\n",
      "sum is: 12\n",
      "sum of above is: 12\n"
     ]
    }
   ],
   "source": [
    "arr= np.array([[1,3,2,54],[2,5,3,9]])\n",
    "print(arr)\n",
    "a= arr[0,1]\n",
    "b=arr[1,3]\n",
    "print(\"2nd eLement on 1st row is:\", arr[0,1])\n",
    "print(\"4th eLement on 2nd row:\",arr[1,3])\n",
    "print(\"sum is:\",arr[0,1]+arr[1,3])\n",
    "print(\"sum of above is:\",(a+b))"
   ]
  },
  {
   "cell_type": "markdown",
   "id": "a27c0438",
   "metadata": {},
   "source": [
    "## accesing 3d array"
   ]
  },
  {
   "cell_type": "code",
   "execution_count": 65,
   "id": "73350c9c",
   "metadata": {},
   "outputs": [
    {
     "name": "stdout",
     "output_type": "stream",
     "text": [
      "[[[1 2 3]\n",
      "  [4 5 6]\n",
      "  [7 8 9]]]\n",
      "1\n",
      "4\n",
      "9\n"
     ]
    }
   ],
   "source": [
    "arr=np.array([[[1,2,3],[4,5,6],[7,8,9]]])\n",
    "print(arr)\n",
    "print(arr[0,0,0])\n",
    "print(arr[0,1,0])\n",
    "print(arr[0,2,2])"
   ]
  },
  {
   "cell_type": "markdown",
   "id": "f2797868",
   "metadata": {},
   "source": [
    "# NumPY part 2"
   ]
  },
  {
   "cell_type": "markdown",
   "id": "fc6bd590",
   "metadata": {},
   "source": [
    "# SLICING"
   ]
  },
  {
   "cell_type": "code",
   "execution_count": 66,
   "id": "eec508bd",
   "metadata": {},
   "outputs": [
    {
     "name": "stdout",
     "output_type": "stream",
     "text": [
      "[2 3 4]\n"
     ]
    }
   ],
   "source": [
    "arr= np.array([1,2,3,4,5])\n",
    "print(arr[1:4])"
   ]
  },
  {
   "cell_type": "code",
   "execution_count": 69,
   "id": "4eccecad",
   "metadata": {},
   "outputs": [
    {
     "name": "stdout",
     "output_type": "stream",
     "text": [
      "[1 4 7]\n"
     ]
    }
   ],
   "source": [
    "arr= np.array([1,3,4,5,7])\n",
    "print(arr[::2])"
   ]
  },
  {
   "cell_type": "markdown",
   "id": "2a515557",
   "metadata": {},
   "source": [
    "# in 2 d array "
   ]
  },
  {
   "cell_type": "code",
   "execution_count": 74,
   "id": "cba2da7e",
   "metadata": {},
   "outputs": [
    {
     "name": "stdout",
     "output_type": "stream",
     "text": [
      "[8 5]\n",
      "[3 2]\n"
     ]
    }
   ],
   "source": [
    "arr= np.array([[1,3,2,5],[4,8,5,2]])\n",
    "print(arr[1,1:3])\n",
    "print(arr[0,1:3])"
   ]
  },
  {
   "cell_type": "markdown",
   "id": "fe2fbada",
   "metadata": {},
   "source": [
    "# checking the data type of an array "
   ]
  },
  {
   "cell_type": "code",
   "execution_count": 75,
   "id": "9d81740f",
   "metadata": {},
   "outputs": [
    {
     "name": "stdout",
     "output_type": "stream",
     "text": [
      "int32\n"
     ]
    }
   ],
   "source": [
    "a=np.array([1,4,3])\n",
    "print(a.dtype)"
   ]
  },
  {
   "cell_type": "code",
   "execution_count": 77,
   "id": "241f2a7b",
   "metadata": {},
   "outputs": [
    {
     "name": "stdout",
     "output_type": "stream",
     "text": [
      "<U7\n"
     ]
    }
   ],
   "source": [
    "a=np.array([\"animaLs\",\"bat\",\"cat\",\"dog\"])\n",
    "print(a.dtype)"
   ]
  },
  {
   "cell_type": "markdown",
   "id": "f3dacd9f",
   "metadata": {},
   "source": [
    "# Creating array with a defined data type"
   ]
  },
  {
   "cell_type": "raw",
   "id": "5c11d06e",
   "metadata": {},
   "source": [
    "Data Types in NumPY\n",
    " i= integer\n",
    " b= booLean\n",
    " u= unsigned int\n",
    " f= fLoat\n",
    " c= compLex data\n",
    " m= timedelta\n",
    " M= dateline \n",
    " O= object\n",
    " S= string\n",
    " U= unicode string\n",
    " V= fixed chunk of memory for other type (void)\n",
    " int32= 4 bytes int"
   ]
  },
  {
   "cell_type": "code",
   "execution_count": 78,
   "id": "0c624bc1",
   "metadata": {},
   "outputs": [
    {
     "name": "stdout",
     "output_type": "stream",
     "text": [
      "[b'1' b'2' b'3' b'4']\n",
      "|S1\n"
     ]
    }
   ],
   "source": [
    "arr= np.array([1,2,3,4],dtype='S')\n",
    "print(arr)\n",
    "print(arr.dtype)"
   ]
  },
  {
   "cell_type": "code",
   "execution_count": 79,
   "id": "8eec8bd4",
   "metadata": {},
   "outputs": [
    {
     "name": "stdout",
     "output_type": "stream",
     "text": [
      "[1 2 3 4]\n",
      "int32\n"
     ]
    }
   ],
   "source": [
    "arr= np.array([1,2,3,4], dtype='i4')\n",
    "print(arr)\n",
    "print(arr.dtype)"
   ]
  },
  {
   "cell_type": "markdown",
   "id": "b2829eff",
   "metadata": {},
   "source": [
    "# NumPY array shape"
   ]
  },
  {
   "cell_type": "markdown",
   "id": "603e2a13",
   "metadata": {},
   "source": [
    "the shape of an array is the number of eLements in each dimension\n"
   ]
  },
  {
   "cell_type": "markdown",
   "id": "4795e51c",
   "metadata": {},
   "source": [
    "print the shape of 2d array"
   ]
  },
  {
   "cell_type": "markdown",
   "id": "4376feb4",
   "metadata": {},
   "source": [
    "# shape means the rows and coLoumns in array"
   ]
  },
  {
   "cell_type": "code",
   "execution_count": 82,
   "id": "f934380f",
   "metadata": {},
   "outputs": [
    {
     "name": "stdout",
     "output_type": "stream",
     "text": [
      "(2, 4)\n"
     ]
    }
   ],
   "source": [
    "arr=np.array([[1,2,3,4],[5,6,3,4]])\n",
    "print(arr.shape)"
   ]
  },
  {
   "cell_type": "code",
   "execution_count": 83,
   "id": "495832d3",
   "metadata": {},
   "outputs": [
    {
     "name": "stdout",
     "output_type": "stream",
     "text": [
      "(1, 3, 3)\n"
     ]
    }
   ],
   "source": [
    "arr= np.array([[[1,2,3],[65,3,1],[4,1,8]]])\n",
    "print(arr.shape)"
   ]
  },
  {
   "cell_type": "markdown",
   "id": "76ff4eb3",
   "metadata": {},
   "source": [
    "# Joining numpy arrays"
   ]
  },
  {
   "cell_type": "code",
   "execution_count": 90,
   "id": "75b3d70a",
   "metadata": {},
   "outputs": [
    {
     "name": "stdout",
     "output_type": "stream",
     "text": [
      "[1 2 3]\n",
      "[6 9 7]\n",
      "[6 9 7 1 2 3]\n",
      "[1 2 3 6 9 7]\n"
     ]
    }
   ],
   "source": [
    "arr1= np.array([1,2,3])\n",
    "\n",
    "arr2= np.array([6,9,7])\n",
    "print(arr1)\n",
    "print(arr2)\n",
    "\n",
    "arr= np.concatenate((arr2,arr1))\n",
    "arr3= np.concatenate((arr1,arr2))\n",
    "print(arr)\n",
    "print(arr3)"
   ]
  },
  {
   "cell_type": "markdown",
   "id": "f37fa68b",
   "metadata": {},
   "source": [
    "# join 2 d array\n",
    "\n",
    "# axis=1 , means rows\n",
    "# axis=0, means coLumns"
   ]
  },
  {
   "cell_type": "code",
   "execution_count": 101,
   "id": "5635a4e4",
   "metadata": {},
   "outputs": [
    {
     "name": "stdout",
     "output_type": "stream",
     "text": [
      "aLong axis 1 , row wise:\n",
      " [[1 3 8 9]\n",
      " [5 4 6 7]]\n",
      "-------------------------\n",
      "aLong axis=0 meanscoLoumn wise:\n",
      " [[1 3]\n",
      " [5 4]\n",
      " [8 9]\n",
      " [6 7]]\n"
     ]
    }
   ],
   "source": [
    "arr1= np.array([[1,3],[5,4]])\n",
    "arr2= np.array([[8,9],[6,7]])\n",
    "arr= np.concatenate((arr1,arr2), axis=1)\n",
    "print(\"aLong axis 1 , row wise:\\n\",arr)\n",
    "print(\"-------------------------\")\n",
    "a= np.concatenate((arr1,arr2), axis=0)\n",
    "print(\"aLong axis=0 meanscoLoumn wise:\\n\",a)"
   ]
  },
  {
   "cell_type": "markdown",
   "id": "447beb07",
   "metadata": {},
   "source": [
    "# spLitting numpy array"
   ]
  },
  {
   "cell_type": "markdown",
   "id": "142e32d9",
   "metadata": {},
   "source": [
    "# spLitting the array in 3 parts"
   ]
  },
  {
   "cell_type": "code",
   "execution_count": 113,
   "id": "103ec2e6",
   "metadata": {},
   "outputs": [
    {
     "name": "stdout",
     "output_type": "stream",
     "text": [
      "[array([1, 4, 3]), array([ 5,  6, 78]), array([3, 4])]\n",
      "[array([1, 4, 3, 5]), array([ 6, 78,  3,  4])]\n"
     ]
    }
   ],
   "source": [
    "arr= np.array([1,4,3,5,6,78,3,4])\n",
    "a= np.array_split(arr,3)\n",
    "print(a)\n",
    "b= np.array_split(arr,2)\n",
    "print(b)"
   ]
  },
  {
   "cell_type": "markdown",
   "id": "5a4a00dc",
   "metadata": {},
   "source": [
    "# raveL and fLatten "
   ]
  },
  {
   "cell_type": "code",
   "execution_count": 118,
   "id": "d0d935a8",
   "metadata": {},
   "outputs": [
    {
     "name": "stdout",
     "output_type": "stream",
     "text": [
      "[[[1 2]\n",
      "  [3 4]\n",
      "  [5 6]]]\n",
      "dimension of a is: 3\n",
      "[1 2 3 4 5 6]\n",
      "1\n"
     ]
    }
   ],
   "source": [
    "a= np.array([[[1,2],[3,4],[5,6]]])\n",
    "print(a)\n",
    "print(\"dimension of a is:\",a.ndim)\n",
    "r= a.ravel()\n",
    "print(r)\n",
    "print(r.ndim)"
   ]
  },
  {
   "cell_type": "code",
   "execution_count": 120,
   "id": "75392204",
   "metadata": {},
   "outputs": [
    {
     "name": "stdout",
     "output_type": "stream",
     "text": [
      "[[[1 2]\n",
      "  [3 4]\n",
      "  [5 6]]]\n",
      "dimension of a is: 3\n",
      "[1 2 3 4 5 6]\n",
      "1\n"
     ]
    }
   ],
   "source": [
    "a= np.array([[[1,2],[3,4],[5,6]]])\n",
    "print(a)\n",
    "print(\"dimension of a is:\",a.ndim)\n",
    "r= a.flatten()\n",
    "print(r)\n",
    "print(r.ndim)"
   ]
  },
  {
   "cell_type": "markdown",
   "id": "70f98fed",
   "metadata": {},
   "source": [
    "# unique function"
   ]
  },
  {
   "cell_type": "code",
   "execution_count": 125,
   "id": "85f4a83e",
   "metadata": {},
   "outputs": [
    {
     "name": "stdout",
     "output_type": "stream",
     "text": [
      "[ 1  2  3  6  3  2 12  3  4 56  7  6 54 21  2  4  1  3  4  3 56  7  7  8\n",
      "  3  1 23  4  5  3 67  1]\n",
      "unique no's are : [ 1  2  3  4  5  6  7  8 12 21 23 54 56 67]\n"
     ]
    }
   ],
   "source": [
    "k=np.array([1,2,3,6,3,2,12,3,4,56,7,6,54,21,2,4,1,3,4,3,56,7,7,8,3,1,23,4,5,3,67,1])\n",
    "print(k)\n",
    "x=np.unique(k)\n",
    "print(\"unique no's are :\",x)"
   ]
  },
  {
   "cell_type": "code",
   "execution_count": 142,
   "id": "cec67370",
   "metadata": {},
   "outputs": [
    {
     "name": "stdout",
     "output_type": "stream",
     "text": [
      "[ 1  2  3  6  3  2 12  3  4 56  7  6 54 21  2  4  1  3  4  3 56  7  7  8\n",
      "  3  1 23  4  5  3 67  1]\n",
      "unique no's are : (array([ 1,  2,  3,  4,  5,  6,  7,  8, 12, 21, 23, 54, 56, 67]), array([ 0,  1,  2,  8, 28,  3, 10, 23,  6, 13, 26, 12,  9, 30],\n",
      "      dtype=int64))\n"
     ]
    }
   ],
   "source": [
    "k=np.array([1,2,3,6,3,2,12,3,4,56,7,6,54,21,2,4,1,3,4,3,56,7,7,8,3,1,23,4,5,3,67,1])\n",
    "print(k)\n",
    "x=np.unique(k , return_index= True)\n",
    "print(\"unique no's are :\",x)"
   ]
  },
  {
   "cell_type": "code",
   "execution_count": 144,
   "id": "6089ccfe",
   "metadata": {},
   "outputs": [
    {
     "name": "stdout",
     "output_type": "stream",
     "text": [
      "[ 1  2  3  6  3  2 12  3  4 56  7  6 54 21  2  4  1  3  4  3 56  7  7  8\n",
      "  3  1 23  4  5  3 67  1]\n",
      "unique no's are : (array([ 1,  2,  3,  4,  5,  6,  7,  8, 12, 21, 23, 54, 56, 67]), array([ 0,  1,  2,  8, 28,  3, 10, 23,  6, 13, 26, 12,  9, 30],\n",
      "      dtype=int64), array([4, 3, 7, 4, 1, 2, 3, 1, 1, 1, 1, 1, 2, 1], dtype=int64))\n"
     ]
    }
   ],
   "source": [
    "k=np.array([1,2,3,6,3,2,12,3,4,56,7,6,54,21,2,4,1,3,4,3,56,7,7,8,3,1,23,4,5,3,67,1])\n",
    "print(k)\n",
    "x=np.unique(k , return_index= True, return_counts=True)\n",
    "print(\"unique no's are :\",x)"
   ]
  },
  {
   "cell_type": "markdown",
   "id": "303d907a",
   "metadata": {},
   "source": [
    "# Delete "
   ]
  },
  {
   "cell_type": "code",
   "execution_count": 147,
   "id": "4e08e2d5",
   "metadata": {},
   "outputs": [
    {
     "name": "stdout",
     "output_type": "stream",
     "text": [
      "[1 2 3 4 5]\n",
      "deleted array: [1 2 4 5]\n"
     ]
    }
   ],
   "source": [
    "a= np.array([1,2,3,4,5])\n",
    "print(a)\n",
    "d= np.delete(a,[2])\n",
    "print(\"deleted array:\",d)"
   ]
  },
  {
   "cell_type": "code",
   "execution_count": 150,
   "id": "007e31ce",
   "metadata": {},
   "outputs": [
    {
     "name": "stdout",
     "output_type": "stream",
     "text": [
      "[[2 6 3 2]\n",
      " [1 6 7 8]\n",
      " [3 5 4 2]]\n",
      "\n",
      "[[2 6 3 2]\n",
      " [3 5 4 2]]\n"
     ]
    }
   ],
   "source": [
    "x= np.array([[2,6,3,2],[1,6,7,8],[3,5,4,2]])\n",
    "print(x)\n",
    "print()\n",
    "s= np.delete(x,1,axis=0)\n",
    "print(s)\n"
   ]
  },
  {
   "cell_type": "code",
   "execution_count": null,
   "id": "b0037e15",
   "metadata": {},
   "outputs": [],
   "source": []
  }
 ],
 "metadata": {
  "kernelspec": {
   "display_name": "Python 3 (ipykernel)",
   "language": "python",
   "name": "python3"
  },
  "language_info": {
   "codemirror_mode": {
    "name": "ipython",
    "version": 3
   },
   "file_extension": ".py",
   "mimetype": "text/x-python",
   "name": "python",
   "nbconvert_exporter": "python",
   "pygments_lexer": "ipython3",
   "version": "3.11.5"
  }
 },
 "nbformat": 4,
 "nbformat_minor": 5
}
