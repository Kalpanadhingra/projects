{
 "cells": [
  {
   "cell_type": "markdown",
   "id": "b9c9bcd5",
   "metadata": {},
   "source": [
    "# Pandas Library"
   ]
  },
  {
   "cell_type": "raw",
   "id": "0ac1a414",
   "metadata": {},
   "source": [
    "Pandas is a python Library used for working with data sets.\n",
    "\n",
    "it has function for anaLysing , cLeaning and manipuLating data.\n",
    "\n",
    "the name \"Pandas \" has a reference to both \"PaneL Data\", and \"Python Data AnaLysis\" and created by Wes MCKinney in 2008."
   ]
  },
  {
   "cell_type": "raw",
   "id": "085e2838",
   "metadata": {},
   "source": [
    "Pandas aLLow us to anaLyse big data and make concLusions based on statisticaL theories.\n",
    "\n",
    "Pandas can cLean the messy data sets and make them redabLe and reLevant.\n",
    "\n",
    "reLevent data is veery important in data science.\n"
   ]
  },
  {
   "cell_type": "markdown",
   "id": "b7aaac19",
   "metadata": {},
   "source": [
    "# advantages of Pandas"
   ]
  },
  {
   "cell_type": "raw",
   "id": "a4c112ec",
   "metadata": {},
   "source": [
    "1. Fast and efficient for manipuLating and anaLysing data.\n",
    "\n",
    "2. Data from different fiLes and object can be Loaded .\n",
    "\n",
    "3. Easy handLing of missing data(represented as NaN ) in fLoating point as weLL as non-fLoating point data.\n",
    "\n",
    "4. Size mutabity: coLumns can beinserted and deLeted from dataframes and higher dimensionaL objects.\n",
    "\n",
    "5. Data set merging  and joining .\n",
    "\n",
    "6. FLexibLe reshaping and pivoting of data sets.\n",
    "\n",
    "7. Provides time series functionaLity.\n",
    "\n",
    "8. PowerfuLL group by functionaLity for performing spLit appLy combine operations on data sets.\n"
   ]
  },
  {
   "cell_type": "markdown",
   "id": "7fed4575",
   "metadata": {},
   "source": [
    "### basics "
   ]
  },
  {
   "cell_type": "raw",
   "id": "49912871",
   "metadata": {},
   "source": [
    "1. Itroduction \n",
    "2. Getting Started \n",
    "3. Pandas Series\n",
    "4. Dataframes\n",
    "5. Read CSV\n",
    "6. Read JSON\n",
    "7. AnaLyse Data"
   ]
  },
  {
   "cell_type": "markdown",
   "id": "4067137f",
   "metadata": {},
   "source": [
    "### CLeaning Data"
   ]
  },
  {
   "cell_type": "raw",
   "id": "e49d8b30",
   "metadata": {},
   "source": [
    "1. CLean data \n",
    "2. CLean empty ceLLs\n",
    "3. CLean wrong format\n",
    "4. CLean wrong data\n",
    "5. Remove dupLicates"
   ]
  },
  {
   "cell_type": "markdown",
   "id": "3a5cfafd",
   "metadata": {},
   "source": [
    "### Advance "
   ]
  },
  {
   "cell_type": "raw",
   "id": "9b950de9",
   "metadata": {},
   "source": [
    "1. CorreLations\n",
    "2. PLotting"
   ]
  },
  {
   "cell_type": "code",
   "execution_count": null,
   "id": "c15925e4",
   "metadata": {},
   "outputs": [],
   "source": []
  }
 ],
 "metadata": {
  "kernelspec": {
   "display_name": "Python 3 (ipykernel)",
   "language": "python",
   "name": "python3"
  },
  "language_info": {
   "codemirror_mode": {
    "name": "ipython",
    "version": 3
   },
   "file_extension": ".py",
   "mimetype": "text/x-python",
   "name": "python",
   "nbconvert_exporter": "python",
   "pygments_lexer": "ipython3",
   "version": "3.11.5"
  }
 },
 "nbformat": 4,
 "nbformat_minor": 5
}
